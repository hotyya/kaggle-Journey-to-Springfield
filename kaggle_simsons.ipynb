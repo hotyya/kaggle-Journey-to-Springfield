{
  "nbformat": 4,
  "nbformat_minor": 0,
  "metadata": {
    "colab": {
      "provenance": [],
      "mount_file_id": "1sGsYL3jl7KgrODTAGfiFudrc2mrzard9",
      "authorship_tag": "ABX9TyNr17ct3+uAg0TKMJ0KuT/x",
      "include_colab_link": true
    },
    "kernelspec": {
      "name": "python3",
      "display_name": "Python 3"
    },
    "language_info": {
      "name": "python"
    },
    "accelerator": "GPU",
    "gpuClass": "standard"
  },
  "cells": [
    {
      "cell_type": "markdown",
      "metadata": {
        "id": "view-in-github",
        "colab_type": "text"
      },
      "source": [
        "<a href=\"https://colab.research.google.com/github/hotyya/kaggle-Journey-to-Springfield/blob/main/kaggle_simsons.ipynb\" target=\"_parent\"><img src=\"https://colab.research.google.com/assets/colab-badge.svg\" alt=\"Open In Colab\"/></a>"
      ]
    },
    {
      "cell_type": "markdown",
      "source": [
        "**Базовая нейронка со свертками без классификатора**"
      ],
      "metadata": {
        "id": "m1sFitX59fAX"
      }
    },
    {
      "cell_type": "code",
      "source": [
        "# ВНИМАНИЕ; версия Pillow установвленна по умолчанию - '7.0.0'\n",
        "# Эта версия ломает torchvision\n",
        "import PIL\n",
        "PIL.__version__"
      ],
      "metadata": {
        "id": "XrQKr6fzVeyO",
        "colab": {
          "base_uri": "https://localhost:8080/",
          "height": 36
        },
        "outputId": "ff614438-24d4-4118-dc13-7fb5499c02bc"
      },
      "execution_count": null,
      "outputs": [
        {
          "output_type": "execute_result",
          "data": {
            "text/plain": [
              "'9.4.0'"
            ],
            "application/vnd.google.colaboratory.intrinsic+json": {
              "type": "string"
            }
          },
          "metadata": {},
          "execution_count": 1
        }
      ]
    },
    {
      "cell_type": "code",
      "source": [
        "!pip uninstall -y Pillow\n",
        "!pip install -Iv Pillow==5.3.0"
      ],
      "metadata": {
        "colab": {
          "base_uri": "https://localhost:8080/",
          "height": 1000
        },
        "id": "26OLL39hO8gQ",
        "outputId": "278f8b76-f1b0-4fed-a250-9dbdae5b56be"
      },
      "execution_count": null,
      "outputs": [
        {
          "output_type": "stream",
          "name": "stdout",
          "text": [
            "Found existing installation: Pillow 9.4.0\n",
            "Uninstalling Pillow-9.4.0:\n",
            "  Successfully uninstalled Pillow-9.4.0\n",
            "Using pip 23.1.2 from /usr/local/lib/python3.10/dist-packages/pip (python 3.10)\n",
            "Collecting Pillow==5.3.0\n",
            "  Downloading Pillow-5.3.0.tar.gz (15.6 MB)\n",
            "\u001b[2K     \u001b[90m━━━━━━━━━━━━━━━━━━━━━━━━━━━━━━━━━━━━━━━━\u001b[0m \u001b[32m15.6/15.6 MB\u001b[0m \u001b[31m12.5 MB/s\u001b[0m eta \u001b[36m0:00:00\u001b[0m\n",
            "\u001b[?25h  Running command python setup.py egg_info\n",
            "  /usr/local/lib/python3.10/dist-packages/setuptools/config/setupcfg.py:293: _DeprecatedConfig: Deprecated config in `setup.cfg`\n",
            "  !!\n",
            "\n",
            "          ********************************************************************************\n",
            "          The license_file parameter is deprecated, use license_files instead.\n",
            "\n",
            "          This deprecation is overdue, please update your project and remove deprecated\n",
            "          calls to avoid build errors in the future.\n",
            "\n",
            "          See https://setuptools.pypa.io/en/latest/userguide/declarative_config.html for details.\n",
            "          ********************************************************************************\n",
            "\n",
            "  !!\n",
            "    parsed = self.parsers.get(option_name, lambda x: x)(value)\n",
            "  running egg_info\n",
            "  creating /tmp/pip-pip-egg-info-s_w45_ao/Pillow.egg-info\n",
            "  writing /tmp/pip-pip-egg-info-s_w45_ao/Pillow.egg-info/PKG-INFO\n",
            "  writing dependency_links to /tmp/pip-pip-egg-info-s_w45_ao/Pillow.egg-info/dependency_links.txt\n",
            "  writing top-level names to /tmp/pip-pip-egg-info-s_w45_ao/Pillow.egg-info/top_level.txt\n",
            "  writing manifest file '/tmp/pip-pip-egg-info-s_w45_ao/Pillow.egg-info/SOURCES.txt'\n",
            "  reading manifest file '/tmp/pip-pip-egg-info-s_w45_ao/Pillow.egg-info/SOURCES.txt'\n",
            "  reading manifest template 'MANIFEST.in'\n",
            "  warning: no files found matching '*.c'\n",
            "  warning: no files found matching '*.h'\n",
            "  warning: no files found matching '*.sh'\n",
            "  no previously-included directories found matching 'docs/_static'\n",
            "  warning: no previously-included files found matching '.appveyor.yml'\n",
            "  warning: no previously-included files found matching '.coveragerc'\n",
            "  warning: no previously-included files found matching '.codecov.yml'\n",
            "  warning: no previously-included files found matching '.editorconfig'\n",
            "  warning: no previously-included files found matching '.landscape.yaml'\n",
            "  warning: no previously-included files found matching '.travis'\n",
            "  warning: no previously-included files found matching '.travis/*'\n",
            "  warning: no previously-included files found matching 'tox.ini'\n",
            "  warning: no previously-included files matching '.git*' found anywhere in distribution\n",
            "  warning: no previously-included files matching '*.pyc' found anywhere in distribution\n",
            "  warning: no previously-included files matching '*.so' found anywhere in distribution\n",
            "  adding license file 'LICENSE'\n",
            "  writing manifest file '/tmp/pip-pip-egg-info-s_w45_ao/Pillow.egg-info/SOURCES.txt'\n",
            "  Preparing metadata (setup.py) ... \u001b[?25l\u001b[?25hdone\n",
            "Building wheels for collected packages: Pillow\n",
            "  Running command python setup.py bdist_wheel\n",
            "  /usr/local/lib/python3.10/dist-packages/setuptools/config/setupcfg.py:293: _DeprecatedConfig: Deprecated config in `setup.cfg`\n",
            "  !!\n",
            "\n",
            "          ********************************************************************************\n",
            "          The license_file parameter is deprecated, use license_files instead.\n",
            "\n",
            "          This deprecation is overdue, please update your project and remove deprecated\n",
            "          calls to avoid build errors in the future.\n",
            "\n",
            "          See https://setuptools.pypa.io/en/latest/userguide/declarative_config.html for details.\n",
            "          ********************************************************************************\n",
            "\n",
            "  !!\n",
            "    parsed = self.parsers.get(option_name, lambda x: x)(value)\n",
            "  running bdist_wheel\n",
            "  running build\n",
            "  running build_py\n",
            "  creating build\n",
            "  creating build/lib.linux-x86_64-cpython-310\n",
            "  creating build/lib.linux-x86_64-cpython-310/PIL\n",
            "  copying src/PIL/GbrImagePlugin.py -> build/lib.linux-x86_64-cpython-310/PIL\n",
            "  copying src/PIL/PcdImagePlugin.py -> build/lib.linux-x86_64-cpython-310/PIL\n",
            "  copying src/PIL/OleFileIO.py -> build/lib.linux-x86_64-cpython-310/PIL\n",
            "  copying src/PIL/ImageMode.py -> build/lib.linux-x86_64-cpython-310/PIL\n",
            "  copying src/PIL/BmpImagePlugin.py -> build/lib.linux-x86_64-cpython-310/PIL\n",
            "  copying src/PIL/FpxImagePlugin.py -> build/lib.linux-x86_64-cpython-310/PIL\n",
            "  copying src/PIL/WebPImagePlugin.py -> build/lib.linux-x86_64-cpython-310/PIL\n",
            "  copying src/PIL/GdImageFile.py -> build/lib.linux-x86_64-cpython-310/PIL\n",
            "  copying src/PIL/ImageFont.py -> build/lib.linux-x86_64-cpython-310/PIL\n",
            "  copying src/PIL/SgiImagePlugin.py -> build/lib.linux-x86_64-cpython-310/PIL\n",
            "  copying src/PIL/BlpImagePlugin.py -> build/lib.linux-x86_64-cpython-310/PIL\n",
            "  copying src/PIL/ImageChops.py -> build/lib.linux-x86_64-cpython-310/PIL\n",
            "  copying src/PIL/_version.py -> build/lib.linux-x86_64-cpython-310/PIL\n",
            "  copying src/PIL/PngImagePlugin.py -> build/lib.linux-x86_64-cpython-310/PIL\n",
            "  copying src/PIL/SunImagePlugin.py -> build/lib.linux-x86_64-cpython-310/PIL\n",
            "  copying src/PIL/ExifTags.py -> build/lib.linux-x86_64-cpython-310/PIL\n",
            "  copying src/PIL/IcnsImagePlugin.py -> build/lib.linux-x86_64-cpython-310/PIL\n",
            "  copying src/PIL/ContainerIO.py -> build/lib.linux-x86_64-cpython-310/PIL\n",
            "  copying src/PIL/ImageOps.py -> build/lib.linux-x86_64-cpython-310/PIL\n",
            "  copying src/PIL/ImageEnhance.py -> build/lib.linux-x86_64-cpython-310/PIL\n",
            "  copying src/PIL/Jpeg2KImagePlugin.py -> build/lib.linux-x86_64-cpython-310/PIL\n",
            "  copying src/PIL/EpsImagePlugin.py -> build/lib.linux-x86_64-cpython-310/PIL\n",
            "  copying src/PIL/TiffTags.py -> build/lib.linux-x86_64-cpython-310/PIL\n",
            "  copying src/PIL/PyAccess.py -> build/lib.linux-x86_64-cpython-310/PIL\n",
            "  copying src/PIL/JpegPresets.py -> build/lib.linux-x86_64-cpython-310/PIL\n",
            "  copying src/PIL/FontFile.py -> build/lib.linux-x86_64-cpython-310/PIL\n",
            "  copying src/PIL/__init__.py -> build/lib.linux-x86_64-cpython-310/PIL\n",
            "  copying src/PIL/FitsStubImagePlugin.py -> build/lib.linux-x86_64-cpython-310/PIL\n",
            "  copying src/PIL/_tkinter_finder.py -> build/lib.linux-x86_64-cpython-310/PIL\n",
            "  copying src/PIL/PaletteFile.py -> build/lib.linux-x86_64-cpython-310/PIL\n",
            "  copying src/PIL/ImageGrab.py -> build/lib.linux-x86_64-cpython-310/PIL\n",
            "  copying src/PIL/FtexImagePlugin.py -> build/lib.linux-x86_64-cpython-310/PIL\n",
            "  copying src/PIL/BdfFontFile.py -> build/lib.linux-x86_64-cpython-310/PIL\n",
            "  copying src/PIL/PdfParser.py -> build/lib.linux-x86_64-cpython-310/PIL\n",
            "  copying src/PIL/WmfImagePlugin.py -> build/lib.linux-x86_64-cpython-310/PIL\n",
            "  copying src/PIL/features.py -> build/lib.linux-x86_64-cpython-310/PIL\n",
            "  copying src/PIL/ImageSequence.py -> build/lib.linux-x86_64-cpython-310/PIL\n",
            "  copying src/PIL/ImageStat.py -> build/lib.linux-x86_64-cpython-310/PIL\n",
            "  copying src/PIL/TgaImagePlugin.py -> build/lib.linux-x86_64-cpython-310/PIL\n",
            "  copying src/PIL/PixarImagePlugin.py -> build/lib.linux-x86_64-cpython-310/PIL\n",
            "  copying src/PIL/GimpGradientFile.py -> build/lib.linux-x86_64-cpython-310/PIL\n",
            "  copying src/PIL/ImageMorph.py -> build/lib.linux-x86_64-cpython-310/PIL\n",
            "  copying src/PIL/ImImagePlugin.py -> build/lib.linux-x86_64-cpython-310/PIL\n",
            "  copying src/PIL/JpegImagePlugin.py -> build/lib.linux-x86_64-cpython-310/PIL\n",
            "  copying src/PIL/_util.py -> build/lib.linux-x86_64-cpython-310/PIL\n",
            "  copying src/PIL/ImageFile.py -> build/lib.linux-x86_64-cpython-310/PIL\n",
            "  copying src/PIL/XVThumbImagePlugin.py -> build/lib.linux-x86_64-cpython-310/PIL\n",
            "  copying src/PIL/PSDraw.py -> build/lib.linux-x86_64-cpython-310/PIL\n",
            "  copying src/PIL/ImtImagePlugin.py -> build/lib.linux-x86_64-cpython-310/PIL\n",
            "  copying src/PIL/ImageMath.py -> build/lib.linux-x86_64-cpython-310/PIL\n",
            "  copying src/PIL/PpmImagePlugin.py -> build/lib.linux-x86_64-cpython-310/PIL\n",
            "  copying src/PIL/ImageColor.py -> build/lib.linux-x86_64-cpython-310/PIL\n",
            "  copying src/PIL/WalImageFile.py -> build/lib.linux-x86_64-cpython-310/PIL\n",
            "  copying src/PIL/Image.py -> build/lib.linux-x86_64-cpython-310/PIL\n",
            "  copying src/PIL/MicImagePlugin.py -> build/lib.linux-x86_64-cpython-310/PIL\n",
            "  copying src/PIL/ImageShow.py -> build/lib.linux-x86_64-cpython-310/PIL\n",
            "  copying src/PIL/ImageDraw2.py -> build/lib.linux-x86_64-cpython-310/PIL\n",
            "  copying src/PIL/FliImagePlugin.py -> build/lib.linux-x86_64-cpython-310/PIL\n",
            "  copying src/PIL/PdfImagePlugin.py -> build/lib.linux-x86_64-cpython-310/PIL\n",
            "  copying src/PIL/ImageWin.py -> build/lib.linux-x86_64-cpython-310/PIL\n",
            "  copying src/PIL/McIdasImagePlugin.py -> build/lib.linux-x86_64-cpython-310/PIL\n",
            "  copying src/PIL/ImageCms.py -> build/lib.linux-x86_64-cpython-310/PIL\n",
            "  copying src/PIL/IptcImagePlugin.py -> build/lib.linux-x86_64-cpython-310/PIL\n",
            "  copying src/PIL/SpiderImagePlugin.py -> build/lib.linux-x86_64-cpython-310/PIL\n",
            "  copying src/PIL/IcoImagePlugin.py -> build/lib.linux-x86_64-cpython-310/PIL\n",
            "  copying src/PIL/_binary.py -> build/lib.linux-x86_64-cpython-310/PIL\n",
            "  copying src/PIL/MspImagePlugin.py -> build/lib.linux-x86_64-cpython-310/PIL\n",
            "  copying src/PIL/Hdf5StubImagePlugin.py -> build/lib.linux-x86_64-cpython-310/PIL\n",
            "  copying src/PIL/ImageFilter.py -> build/lib.linux-x86_64-cpython-310/PIL\n",
            "  copying src/PIL/GimpPaletteFile.py -> build/lib.linux-x86_64-cpython-310/PIL\n",
            "  copying src/PIL/CurImagePlugin.py -> build/lib.linux-x86_64-cpython-310/PIL\n",
            "  copying src/PIL/PcfFontFile.py -> build/lib.linux-x86_64-cpython-310/PIL\n",
            "  copying src/PIL/PsdImagePlugin.py -> build/lib.linux-x86_64-cpython-310/PIL\n",
            "  copying src/PIL/BufrStubImagePlugin.py -> build/lib.linux-x86_64-cpython-310/PIL\n",
            "  copying src/PIL/GribStubImagePlugin.py -> build/lib.linux-x86_64-cpython-310/PIL\n",
            "  copying src/PIL/MpoImagePlugin.py -> build/lib.linux-x86_64-cpython-310/PIL\n",
            "  copying src/PIL/XpmImagePlugin.py -> build/lib.linux-x86_64-cpython-310/PIL\n",
            "  copying src/PIL/DdsImagePlugin.py -> build/lib.linux-x86_64-cpython-310/PIL\n",
            "  copying src/PIL/PcxImagePlugin.py -> build/lib.linux-x86_64-cpython-310/PIL\n",
            "  copying src/PIL/XbmImagePlugin.py -> build/lib.linux-x86_64-cpython-310/PIL\n",
            "  copying src/PIL/MpegImagePlugin.py -> build/lib.linux-x86_64-cpython-310/PIL\n",
            "  copying src/PIL/GifImagePlugin.py -> build/lib.linux-x86_64-cpython-310/PIL\n",
            "  copying src/PIL/DcxImagePlugin.py -> build/lib.linux-x86_64-cpython-310/PIL\n",
            "  copying src/PIL/ImageQt.py -> build/lib.linux-x86_64-cpython-310/PIL\n",
            "  copying src/PIL/ImageTransform.py -> build/lib.linux-x86_64-cpython-310/PIL\n",
            "  copying src/PIL/TarIO.py -> build/lib.linux-x86_64-cpython-310/PIL\n",
            "  copying src/PIL/PalmImagePlugin.py -> build/lib.linux-x86_64-cpython-310/PIL\n",
            "  copying src/PIL/ImagePalette.py -> build/lib.linux-x86_64-cpython-310/PIL\n",
            "  copying src/PIL/ImageDraw.py -> build/lib.linux-x86_64-cpython-310/PIL\n",
            "  copying src/PIL/ImagePath.py -> build/lib.linux-x86_64-cpython-310/PIL\n",
            "  copying src/PIL/ImageTk.py -> build/lib.linux-x86_64-cpython-310/PIL\n",
            "  copying src/PIL/TiffImagePlugin.py -> build/lib.linux-x86_64-cpython-310/PIL\n",
            "  running egg_info\n",
            "  writing src/Pillow.egg-info/PKG-INFO\n",
            "  writing dependency_links to src/Pillow.egg-info/dependency_links.txt\n",
            "  writing top-level names to src/Pillow.egg-info/top_level.txt\n",
            "  reading manifest file 'src/Pillow.egg-info/SOURCES.txt'\n",
            "  reading manifest template 'MANIFEST.in'\n",
            "  warning: no files found matching '*.c'\n",
            "  warning: no files found matching '*.h'\n",
            "  warning: no files found matching '*.sh'\n",
            "  no previously-included directories found matching 'docs/_static'\n",
            "  warning: no previously-included files found matching '.appveyor.yml'\n",
            "  warning: no previously-included files found matching '.coveragerc'\n",
            "  warning: no previously-included files found matching '.codecov.yml'\n",
            "  warning: no previously-included files found matching '.editorconfig'\n",
            "  warning: no previously-included files found matching '.landscape.yaml'\n",
            "  warning: no previously-included files found matching '.travis'\n",
            "  warning: no previously-included files found matching '.travis/*'\n",
            "  warning: no previously-included files found matching 'tox.ini'\n",
            "  warning: no previously-included files matching '.git*' found anywhere in distribution\n",
            "  warning: no previously-included files matching '*.pyc' found anywhere in distribution\n",
            "  warning: no previously-included files matching '*.so' found anywhere in distribution\n",
            "  adding license file 'LICENSE'\n",
            "  writing manifest file 'src/Pillow.egg-info/SOURCES.txt'\n",
            "  running build_ext\n",
            "  building 'PIL._imaging' extension\n",
            "  creating build/temp.linux-x86_64-cpython-310/src\n",
            "  creating build/temp.linux-x86_64-cpython-310/src/libImaging\n",
            "  x86_64-linux-gnu-gcc -Wno-unused-result -Wsign-compare -DNDEBUG -g -fwrapv -O2 -Wall -g -fstack-protector-strong -Wformat -Werror=format-security -g -fwrapv -O2 -fPIC -DHAVE_LIBJPEG -DHAVE_OPENJPEG -DHAVE_LIBZ -DHAVE_LIBTIFF -DPILLOW_VERSION=\\\"5.3.0\\\" -I/usr/include/openjpeg-2.4 -I/tmp/pip-install-3g_7m5d4/pillow_f4fb465bc0a245ae80600f7650ef5afe/src/libImaging -I/usr/include/freetype2 -I/usr/include -I/usr/local/include -I/usr/include/python3.10 -I/usr/include/x86_64-linux-gnu -c src/_imaging.c -o build/temp.linux-x86_64-cpython-310/src/_imaging.o\n",
            "  building 'PIL._imagingft' extension\n",
            "  x86_64-linux-gnu-gcc -Wno-unused-result -Wsign-compare -DNDEBUG -g -fwrapv -O2 -Wall -g -fstack-protector-strong -Wformat -Werror=format-security -g -fwrapv -O2 -fPIC -I/usr/include/openjpeg-2.4 -I/tmp/pip-install-3g_7m5d4/pillow_f4fb465bc0a245ae80600f7650ef5afe/src/libImaging -I/usr/include/freetype2 -I/usr/include -I/usr/local/include -I/usr/include/python3.10 -I/usr/include/x86_64-linux-gnu -c src/_imagingft.c -o build/temp.linux-x86_64-cpython-310/src/_imagingft.o\n",
            "  src/_imagingft.c: In function ‘font_getchar’:\n",
            "  src/_imagingft.c:312:9: warning: ‘PyUnicode_AsUnicode’ is deprecated [-Wdeprecated-declarations]\n",
            "    312 |         Py_UNICODE* p = PyUnicode_AS_UNICODE(string);\n",
            "        |         ^~~~~~~~~~\n",
            "  In file included from /usr/include/python3.10/unicodeobject.h:1046,\n",
            "                   from /usr/include/python3.10/Python.h:83,\n",
            "                   from src/_imagingft.c:21:\n",
            "  /usr/include/python3.10/cpython/unicodeobject.h:580:45: note: declared here\n",
            "    580 | Py_DEPRECATED(3.3) PyAPI_FUNC(Py_UNICODE *) PyUnicode_AsUnicode(\n",
            "        |                                             ^~~~~~~~~~~~~~~~~~~\n",
            "  src/_imagingft.c:313:9: warning: ‘_PyUnicode_get_wstr_length’ is deprecated [-Wdeprecated-declarations]\n",
            "    313 |         int size = PyUnicode_GET_SIZE(string);\n",
            "        |         ^~~\n",
            "  In file included from /usr/include/python3.10/unicodeobject.h:1046,\n",
            "                   from /usr/include/python3.10/Python.h:83,\n",
            "                   from src/_imagingft.c:21:\n",
            "  /usr/include/python3.10/cpython/unicodeobject.h:446:26: note: declared here\n",
            "    446 | static inline Py_ssize_t _PyUnicode_get_wstr_length(PyObject *op) {\n",
            "        |                          ^~~~~~~~~~~~~~~~~~~~~~~~~~\n",
            "  src/_imagingft.c:313:9: warning: ‘PyUnicode_AsUnicode’ is deprecated [-Wdeprecated-declarations]\n",
            "    313 |         int size = PyUnicode_GET_SIZE(string);\n",
            "        |         ^~~\n",
            "  In file included from /usr/include/python3.10/unicodeobject.h:1046,\n",
            "                   from /usr/include/python3.10/Python.h:83,\n",
            "                   from src/_imagingft.c:21:\n",
            "  /usr/include/python3.10/cpython/unicodeobject.h:580:45: note: declared here\n",
            "    580 | Py_DEPRECATED(3.3) PyAPI_FUNC(Py_UNICODE *) PyUnicode_AsUnicode(\n",
            "        |                                             ^~~~~~~~~~~~~~~~~~~\n",
            "  src/_imagingft.c:313:9: warning: ‘_PyUnicode_get_wstr_length’ is deprecated [-Wdeprecated-declarations]\n",
            "    313 |         int size = PyUnicode_GET_SIZE(string);\n",
            "        |         ^~~\n",
            "  In file included from /usr/include/python3.10/unicodeobject.h:1046,\n",
            "                   from /usr/include/python3.10/Python.h:83,\n",
            "                   from src/_imagingft.c:21:\n",
            "  /usr/include/python3.10/cpython/unicodeobject.h:446:26: note: declared here\n",
            "    446 | static inline Py_ssize_t _PyUnicode_get_wstr_length(PyObject *op) {\n",
            "        |                          ^~~~~~~~~~~~~~~~~~~~~~~~~~\n",
            "  src/_imagingft.c: In function ‘text_layout_raqm’:\n",
            "  src/_imagingft.c:352:9: warning: ‘PyUnicode_AsUnicode’ is deprecated [-Wdeprecated-declarations]\n",
            "    352 |         Py_UNICODE *text = PyUnicode_AS_UNICODE(string);\n",
            "        |         ^~~~~~~~~~\n",
            "  In file included from /usr/include/python3.10/unicodeobject.h:1046,\n",
            "                   from /usr/include/python3.10/Python.h:83,\n",
            "                   from src/_imagingft.c:21:\n",
            "  /usr/include/python3.10/cpython/unicodeobject.h:580:45: note: declared here\n",
            "    580 | Py_DEPRECATED(3.3) PyAPI_FUNC(Py_UNICODE *) PyUnicode_AsUnicode(\n",
            "        |                                             ^~~~~~~~~~~~~~~~~~~\n",
            "  src/_imagingft.c:353:9: warning: ‘_PyUnicode_get_wstr_length’ is deprecated [-Wdeprecated-declarations]\n",
            "    353 |         Py_ssize_t size = PyUnicode_GET_SIZE(string);\n",
            "        |         ^~~~~~~~~~\n",
            "  In file included from /usr/include/python3.10/unicodeobject.h:1046,\n",
            "                   from /usr/include/python3.10/Python.h:83,\n",
            "                   from src/_imagingft.c:21:\n",
            "  /usr/include/python3.10/cpython/unicodeobject.h:446:26: note: declared here\n",
            "    446 | static inline Py_ssize_t _PyUnicode_get_wstr_length(PyObject *op) {\n",
            "        |                          ^~~~~~~~~~~~~~~~~~~~~~~~~~\n",
            "  src/_imagingft.c:353:9: warning: ‘PyUnicode_AsUnicode’ is deprecated [-Wdeprecated-declarations]\n",
            "    353 |         Py_ssize_t size = PyUnicode_GET_SIZE(string);\n",
            "        |         ^~~~~~~~~~\n",
            "  In file included from /usr/include/python3.10/unicodeobject.h:1046,\n",
            "                   from /usr/include/python3.10/Python.h:83,\n",
            "                   from src/_imagingft.c:21:\n",
            "  /usr/include/python3.10/cpython/unicodeobject.h:580:45: note: declared here\n",
            "    580 | Py_DEPRECATED(3.3) PyAPI_FUNC(Py_UNICODE *) PyUnicode_AsUnicode(\n",
            "        |                                             ^~~~~~~~~~~~~~~~~~~\n",
            "  src/_imagingft.c:353:9: warning: ‘_PyUnicode_get_wstr_length’ is deprecated [-Wdeprecated-declarations]\n",
            "    353 |         Py_ssize_t size = PyUnicode_GET_SIZE(string);\n",
            "        |         ^~~~~~~~~~\n",
            "  In file included from /usr/include/python3.10/unicodeobject.h:1046,\n",
            "                   from /usr/include/python3.10/Python.h:83,\n",
            "                   from src/_imagingft.c:21:\n",
            "  /usr/include/python3.10/cpython/unicodeobject.h:446:26: note: declared here\n",
            "    446 | static inline Py_ssize_t _PyUnicode_get_wstr_length(PyObject *op) {\n",
            "        |                          ^~~~~~~~~~~~~~~~~~~~~~~~~~\n",
            "  src/_imagingft.c:478:23: warning: comparison of integer expressions of different signedness: ‘int’ and ‘size_t’ {aka ‘long unsigned int’} [-Wsign-compare]\n",
            "    478 |         for (i = 0; i < count; i++) {\n",
            "        |                       ^\n",
            "  src/_imagingft.c:486:23: warning: comparison of integer expressions of different signedness: ‘int’ and ‘size_t’ {aka ‘long unsigned int’} [-Wsign-compare]\n",
            "    486 |         for (i = 0; i < count; i++) {\n",
            "        |                       ^\n",
            "  src/_imagingft.c: In function ‘font_getsize’:\n",
            "  src/_imagingft.c:607:23: warning: comparison of integer expressions of different signedness: ‘int’ and ‘size_t’ {aka ‘long unsigned int’} [-Wsign-compare]\n",
            "    607 |     for (x = i = 0; i < count; i++) {\n",
            "        |                       ^\n",
            "  src/_imagingft.c:627:15: warning: comparison of integer expressions of different signedness: ‘int’ and ‘size_t’ {aka ‘long unsigned int’} [-Wsign-compare]\n",
            "    627 |         if (i == count - 1)\n",
            "        |               ^~\n",
            "  src/_imagingft.c: In function ‘font_render’:\n",
            "  src/_imagingft.c:718:19: warning: comparison of integer expressions of different signedness: ‘int’ and ‘size_t’ {aka ‘long unsigned int’} [-Wsign-compare]\n",
            "    718 |     for (i = 0; i < count; i++) {\n",
            "        |                   ^\n",
            "  src/_imagingft.c:731:23: warning: comparison of integer expressions of different signedness: ‘int’ and ‘size_t’ {aka ‘long unsigned int’} [-Wsign-compare]\n",
            "    731 |     for (x = i = 0; i < count; i++) {\n",
            "        |                       ^\n",
            "  src/_imagingft.c:758:27: warning: comparison of integer expressions of different signedness: ‘int’ and ‘unsigned int’ [-Wsign-compare]\n",
            "    758 |             for (y = 0; y < glyph->bitmap.rows; y++) {\n",
            "        |                           ^\n",
            "  src/_imagingft.c:778:27: warning: comparison of integer expressions of different signedness: ‘int’ and ‘unsigned int’ [-Wsign-compare]\n",
            "    778 |             for (y = 0; y < glyph->bitmap.rows; y++) {\n",
            "        |                           ^\n",
            "  x86_64-linux-gnu-gcc -shared -Wl,-O1 -Wl,-Bsymbolic-functions -Wl,-Bsymbolic-functions -g -fwrapv -O2 build/temp.linux-x86_64-cpython-310/src/_imagingft.o -L/usr/include/libpng16 -L/usr/local/cuda-12.2/targets/x86_64-linux/lib/stubs -L/usr/lib -L/usr/local/lib -L/usr/lib/x86_64-linux-gnu -lfreetype -o build/lib.linux-x86_64-cpython-310/PIL/_imagingft.cpython-310-x86_64-linux-gnu.so\n",
            "  building 'PIL._webp' extension\n",
            "  x86_64-linux-gnu-gcc -Wno-unused-result -Wsign-compare -DNDEBUG -g -fwrapv -O2 -Wall -g -fstack-protector-strong -Wformat -Werror=format-security -g -fwrapv -O2 -fPIC -DHAVE_WEBPMUX -I/usr/include/openjpeg-2.4 -I/tmp/pip-install-3g_7m5d4/pillow_f4fb465bc0a245ae80600f7650ef5afe/src/libImaging -I/usr/include/freetype2 -I/usr/include -I/usr/local/include -I/usr/include/python3.10 -I/usr/include/x86_64-linux-gnu -c src/_webp.c -o build/temp.linux-x86_64-cpython-310/src/_webp.o\n",
            "  x86_64-linux-gnu-gcc -shared -Wl,-O1 -Wl,-Bsymbolic-functions -Wl,-Bsymbolic-functions -g -fwrapv -O2 build/temp.linux-x86_64-cpython-310/src/_webp.o -L/usr/include/libpng16 -L/usr/local/cuda-12.2/targets/x86_64-linux/lib/stubs -L/usr/lib -L/usr/local/lib -L/usr/lib/x86_64-linux-gnu -lwebp -lwebpmux -lwebpdemux -o build/lib.linux-x86_64-cpython-310/PIL/_webp.cpython-310-x86_64-linux-gnu.so\n",
            "  building 'PIL._imagingtk' extension\n",
            "  creating build/temp.linux-x86_64-cpython-310/src/Tk\n",
            "  x86_64-linux-gnu-gcc -Wno-unused-result -Wsign-compare -DNDEBUG -g -fwrapv -O2 -Wall -g -fstack-protector-strong -Wformat -Werror=format-security -g -fwrapv -O2 -fPIC -Isrc/Tk -I/usr/include/openjpeg-2.4 -I/tmp/pip-install-3g_7m5d4/pillow_f4fb465bc0a245ae80600f7650ef5afe/src/libImaging -I/usr/include/freetype2 -I/usr/include -I/usr/local/include -I/usr/include/python3.10 -I/usr/include/x86_64-linux-gnu -c src/Tk/tkImaging.c -o build/temp.linux-x86_64-cpython-310/src/Tk/tkImaging.o\n",
            "  x86_64-linux-gnu-gcc -Wno-unused-result -Wsign-compare -DNDEBUG -g -fwrapv -O2 -Wall -g -fstack-protector-strong -Wformat -Werror=format-security -g -fwrapv -O2 -fPIC -DHAVE_LIBJPEG -DHAVE_OPENJPEG -DHAVE_LIBZ -DHAVE_LIBTIFF -DPILLOW_VERSION=\\\"5.3.0\\\" -I/usr/include/openjpeg-2.4 -I/tmp/pip-install-3g_7m5d4/pillow_f4fb465bc0a245ae80600f7650ef5afe/src/libImaging -I/usr/include/freetype2 -I/usr/include -I/usr/local/include -I/usr/include/python3.10 -I/usr/include/x86_64-linux-gnu -c src/decode.c -o build/temp.linux-x86_64-cpython-310/src/decode.o\n",
            "  x86_64-linux-gnu-gcc -Wno-unused-result -Wsign-compare -DNDEBUG -g -fwrapv -O2 -Wall -g -fstack-protector-strong -Wformat -Werror=format-security -g -fwrapv -O2 -fPIC -Isrc/Tk -I/usr/include/openjpeg-2.4 -I/tmp/pip-install-3g_7m5d4/pillow_f4fb465bc0a245ae80600f7650ef5afe/src/libImaging -I/usr/include/freetype2 -I/usr/include -I/usr/local/include -I/usr/include/python3.10 -I/usr/include/x86_64-linux-gnu -c src/_imagingtk.c -o build/temp.linux-x86_64-cpython-310/src/_imagingtk.o\n",
            "  In file included from src/decode.c:492:\n",
            "  /tmp/pip-install-3g_7m5d4/pillow_f4fb465bc0a245ae80600f7650ef5afe/src/libImaging/TiffDecode.h:35:5: warning: ‘uint32’ is deprecated [-Wdeprecated-declarations]\n",
            "     35 |     uint32 ifd;   /* offset of the ifd, used for multipage\n",
            "        |     ^~~~~~\n",
            "  x86_64-linux-gnu-gcc -shared -Wl,-O1 -Wl,-Bsymbolic-functions -Wl,-Bsymbolic-functions -g -fwrapv -O2 build/temp.linux-x86_64-cpython-310/src/Tk/tkImaging.o build/temp.linux-x86_64-cpython-310/src/_imagingtk.o -L/usr/include/libpng16 -L/usr/local/cuda-12.2/targets/x86_64-linux/lib/stubs -L/usr/lib -L/usr/local/lib -L/usr/lib/x86_64-linux-gnu -o build/lib.linux-x86_64-cpython-310/PIL/_imagingtk.cpython-310-x86_64-linux-gnu.so\n",
            "  building 'PIL._imagingmath' extension\n",
            "  x86_64-linux-gnu-gcc -Wno-unused-result -Wsign-compare -DNDEBUG -g -fwrapv -O2 -Wall -g -fstack-protector-strong -Wformat -Werror=format-security -g -fwrapv -O2 -fPIC -I/usr/include/openjpeg-2.4 -I/tmp/pip-install-3g_7m5d4/pillow_f4fb465bc0a245ae80600f7650ef5afe/src/libImaging -I/usr/include/freetype2 -I/usr/include -I/usr/local/include -I/usr/include/python3.10 -I/usr/include/x86_64-linux-gnu -c src/_imagingmath.c -o build/temp.linux-x86_64-cpython-310/src/_imagingmath.o\n",
            "  x86_64-linux-gnu-gcc -Wno-unused-result -Wsign-compare -DNDEBUG -g -fwrapv -O2 -Wall -g -fstack-protector-strong -Wformat -Werror=format-security -g -fwrapv -O2 -fPIC -DHAVE_LIBJPEG -DHAVE_OPENJPEG -DHAVE_LIBZ -DHAVE_LIBTIFF -DPILLOW_VERSION=\\\"5.3.0\\\" -I/usr/include/openjpeg-2.4 -I/tmp/pip-install-3g_7m5d4/pillow_f4fb465bc0a245ae80600f7650ef5afe/src/libImaging -I/usr/include/freetype2 -I/usr/include -I/usr/local/include -I/usr/include/python3.10 -I/usr/include/x86_64-linux-gnu -c src/display.c -o build/temp.linux-x86_64-cpython-310/src/display.o\n",
            "  x86_64-linux-gnu-gcc -Wno-unused-result -Wsign-compare -DNDEBUG -g -fwrapv -O2 -Wall -g -fstack-protector-strong -Wformat -Werror=format-security -g -fwrapv -O2 -fPIC -DHAVE_LIBJPEG -DHAVE_OPENJPEG -DHAVE_LIBZ -DHAVE_LIBTIFF -DPILLOW_VERSION=\\\"5.3.0\\\" -I/usr/include/openjpeg-2.4 -I/tmp/pip-install-3g_7m5d4/pillow_f4fb465bc0a245ae80600f7650ef5afe/src/libImaging -I/usr/include/freetype2 -I/usr/include -I/usr/local/include -I/usr/include/python3.10 -I/usr/include/x86_64-linux-gnu -c src/encode.c -o build/temp.linux-x86_64-cpython-310/src/encode.o\n",
            "  In file included from src/encode.c:789:\n",
            "  /tmp/pip-install-3g_7m5d4/pillow_f4fb465bc0a245ae80600f7650ef5afe/src/libImaging/TiffDecode.h:35:5: warning: ‘uint32’ is deprecated [-Wdeprecated-declarations]\n",
            "     35 |     uint32 ifd;   /* offset of the ifd, used for multipage\n",
            "        |     ^~~~~~\n",
            "  x86_64-linux-gnu-gcc -shared -Wl,-O1 -Wl,-Bsymbolic-functions -Wl,-Bsymbolic-functions -g -fwrapv -O2 build/temp.linux-x86_64-cpython-310/src/_imagingmath.o -L/usr/include/libpng16 -L/usr/local/cuda-12.2/targets/x86_64-linux/lib/stubs -L/usr/lib -L/usr/local/lib -L/usr/lib/x86_64-linux-gnu -o build/lib.linux-x86_64-cpython-310/PIL/_imagingmath.cpython-310-x86_64-linux-gnu.so\n",
            "  building 'PIL._imagingmorph' extension\n",
            "  x86_64-linux-gnu-gcc -Wno-unused-result -Wsign-compare -DNDEBUG -g -fwrapv -O2 -Wall -g -fstack-protector-strong -Wformat -Werror=format-security -g -fwrapv -O2 -fPIC -I/usr/include/openjpeg-2.4 -I/tmp/pip-install-3g_7m5d4/pillow_f4fb465bc0a245ae80600f7650ef5afe/src/libImaging -I/usr/include/freetype2 -I/usr/include -I/usr/local/include -I/usr/include/python3.10 -I/usr/include/x86_64-linux-gnu -c src/_imagingmorph.c -o build/temp.linux-x86_64-cpython-310/src/_imagingmorph.o\n",
            "  x86_64-linux-gnu-gcc -Wno-unused-result -Wsign-compare -DNDEBUG -g -fwrapv -O2 -Wall -g -fstack-protector-strong -Wformat -Werror=format-security -g -fwrapv -O2 -fPIC -DHAVE_LIBJPEG -DHAVE_OPENJPEG -DHAVE_LIBZ -DHAVE_LIBTIFF -DPILLOW_VERSION=\\\"5.3.0\\\" -I/usr/include/openjpeg-2.4 -I/tmp/pip-install-3g_7m5d4/pillow_f4fb465bc0a245ae80600f7650ef5afe/src/libImaging -I/usr/include/freetype2 -I/usr/include -I/usr/local/include -I/usr/include/python3.10 -I/usr/include/x86_64-linux-gnu -c src/libImaging/Access.c -o build/temp.linux-x86_64-cpython-310/src/libImaging/Access.o\n",
            "  x86_64-linux-gnu-gcc -shared -Wl,-O1 -Wl,-Bsymbolic-functions -Wl,-Bsymbolic-functions -g -fwrapv -O2 build/temp.linux-x86_64-cpython-310/src/_imagingmorph.o -L/usr/include/libpng16 -L/usr/local/cuda-12.2/targets/x86_64-linux/lib/stubs -L/usr/lib -L/usr/local/lib -L/usr/lib/x86_64-linux-gnu -o build/lib.linux-x86_64-cpython-310/PIL/_imagingmorph.cpython-310-x86_64-linux-gnu.so\n",
            "  x86_64-linux-gnu-gcc -Wno-unused-result -Wsign-compare -DNDEBUG -g -fwrapv -O2 -Wall -g -fstack-protector-strong -Wformat -Werror=format-security -g -fwrapv -O2 -fPIC -DHAVE_LIBJPEG -DHAVE_OPENJPEG -DHAVE_LIBZ -DHAVE_LIBTIFF -DPILLOW_VERSION=\\\"5.3.0\\\" -I/usr/include/openjpeg-2.4 -I/tmp/pip-install-3g_7m5d4/pillow_f4fb465bc0a245ae80600f7650ef5afe/src/libImaging -I/usr/include/freetype2 -I/usr/include -I/usr/local/include -I/usr/include/python3.10 -I/usr/include/x86_64-linux-gnu -c src/libImaging/AlphaComposite.c -o build/temp.linux-x86_64-cpython-310/src/libImaging/AlphaComposite.o\n",
            "  x86_64-linux-gnu-gcc -Wno-unused-result -Wsign-compare -DNDEBUG -g -fwrapv -O2 -Wall -g -fstack-protector-strong -Wformat -Werror=format-security -g -fwrapv -O2 -fPIC -DHAVE_LIBJPEG -DHAVE_OPENJPEG -DHAVE_LIBZ -DHAVE_LIBTIFF -DPILLOW_VERSION=\\\"5.3.0\\\" -I/usr/include/openjpeg-2.4 -I/tmp/pip-install-3g_7m5d4/pillow_f4fb465bc0a245ae80600f7650ef5afe/src/libImaging -I/usr/include/freetype2 -I/usr/include -I/usr/local/include -I/usr/include/python3.10 -I/usr/include/x86_64-linux-gnu -c src/libImaging/Bands.c -o build/temp.linux-x86_64-cpython-310/src/libImaging/Bands.o\n",
            "  x86_64-linux-gnu-gcc -Wno-unused-result -Wsign-compare -DNDEBUG -g -fwrapv -O2 -Wall -g -fstack-protector-strong -Wformat -Werror=format-security -g -fwrapv -O2 -fPIC -DHAVE_LIBJPEG -DHAVE_OPENJPEG -DHAVE_LIBZ -DHAVE_LIBTIFF -DPILLOW_VERSION=\\\"5.3.0\\\" -I/usr/include/openjpeg-2.4 -I/tmp/pip-install-3g_7m5d4/pillow_f4fb465bc0a245ae80600f7650ef5afe/src/libImaging -I/usr/include/freetype2 -I/usr/include -I/usr/local/include -I/usr/include/python3.10 -I/usr/include/x86_64-linux-gnu -c src/libImaging/BcnDecode.c -o build/temp.linux-x86_64-cpython-310/src/libImaging/BcnDecode.o\n",
            "  x86_64-linux-gnu-gcc -Wno-unused-result -Wsign-compare -DNDEBUG -g -fwrapv -O2 -Wall -g -fstack-protector-strong -Wformat -Werror=format-security -g -fwrapv -O2 -fPIC -DHAVE_LIBJPEG -DHAVE_OPENJPEG -DHAVE_LIBZ -DHAVE_LIBTIFF -DPILLOW_VERSION=\\\"5.3.0\\\" -I/usr/include/openjpeg-2.4 -I/tmp/pip-install-3g_7m5d4/pillow_f4fb465bc0a245ae80600f7650ef5afe/src/libImaging -I/usr/include/freetype2 -I/usr/include -I/usr/local/include -I/usr/include/python3.10 -I/usr/include/x86_64-linux-gnu -c src/libImaging/BitDecode.c -o build/temp.linux-x86_64-cpython-310/src/libImaging/BitDecode.o\n",
            "  x86_64-linux-gnu-gcc -Wno-unused-result -Wsign-compare -DNDEBUG -g -fwrapv -O2 -Wall -g -fstack-protector-strong -Wformat -Werror=format-security -g -fwrapv -O2 -fPIC -DHAVE_LIBJPEG -DHAVE_OPENJPEG -DHAVE_LIBZ -DHAVE_LIBTIFF -DPILLOW_VERSION=\\\"5.3.0\\\" -I/usr/include/openjpeg-2.4 -I/tmp/pip-install-3g_7m5d4/pillow_f4fb465bc0a245ae80600f7650ef5afe/src/libImaging -I/usr/include/freetype2 -I/usr/include -I/usr/local/include -I/usr/include/python3.10 -I/usr/include/x86_64-linux-gnu -c src/libImaging/Blend.c -o build/temp.linux-x86_64-cpython-310/src/libImaging/Blend.o\n",
            "  x86_64-linux-gnu-gcc -Wno-unused-result -Wsign-compare -DNDEBUG -g -fwrapv -O2 -Wall -g -fstack-protector-strong -Wformat -Werror=format-security -g -fwrapv -O2 -fPIC -DHAVE_LIBJPEG -DHAVE_OPENJPEG -DHAVE_LIBZ -DHAVE_LIBTIFF -DPILLOW_VERSION=\\\"5.3.0\\\" -I/usr/include/openjpeg-2.4 -I/tmp/pip-install-3g_7m5d4/pillow_f4fb465bc0a245ae80600f7650ef5afe/src/libImaging -I/usr/include/freetype2 -I/usr/include -I/usr/local/include -I/usr/include/python3.10 -I/usr/include/x86_64-linux-gnu -c src/libImaging/BoxBlur.c -o build/temp.linux-x86_64-cpython-310/src/libImaging/BoxBlur.o\n",
            "  x86_64-linux-gnu-gcc -Wno-unused-result -Wsign-compare -DNDEBUG -g -fwrapv -O2 -Wall -g -fstack-protector-strong -Wformat -Werror=format-security -g -fwrapv -O2 -fPIC -DHAVE_LIBJPEG -DHAVE_OPENJPEG -DHAVE_LIBZ -DHAVE_LIBTIFF -DPILLOW_VERSION=\\\"5.3.0\\\" -I/usr/include/openjpeg-2.4 -I/tmp/pip-install-3g_7m5d4/pillow_f4fb465bc0a245ae80600f7650ef5afe/src/libImaging -I/usr/include/freetype2 -I/usr/include -I/usr/local/include -I/usr/include/python3.10 -I/usr/include/x86_64-linux-gnu -c src/libImaging/Chops.c -o build/temp.linux-x86_64-cpython-310/src/libImaging/Chops.o\n",
            "  x86_64-linux-gnu-gcc -Wno-unused-result -Wsign-compare -DNDEBUG -g -fwrapv -O2 -Wall -g -fstack-protector-strong -Wformat -Werror=format-security -g -fwrapv -O2 -fPIC -DHAVE_LIBJPEG -DHAVE_OPENJPEG -DHAVE_LIBZ -DHAVE_LIBTIFF -DPILLOW_VERSION=\\\"5.3.0\\\" -I/usr/include/openjpeg-2.4 -I/tmp/pip-install-3g_7m5d4/pillow_f4fb465bc0a245ae80600f7650ef5afe/src/libImaging -I/usr/include/freetype2 -I/usr/include -I/usr/local/include -I/usr/include/python3.10 -I/usr/include/x86_64-linux-gnu -c src/libImaging/ColorLUT.c -o build/temp.linux-x86_64-cpython-310/src/libImaging/ColorLUT.o\n",
            "  x86_64-linux-gnu-gcc -Wno-unused-result -Wsign-compare -DNDEBUG -g -fwrapv -O2 -Wall -g -fstack-protector-strong -Wformat -Werror=format-security -g -fwrapv -O2 -fPIC -DHAVE_LIBJPEG -DHAVE_OPENJPEG -DHAVE_LIBZ -DHAVE_LIBTIFF -DPILLOW_VERSION=\\\"5.3.0\\\" -I/usr/include/openjpeg-2.4 -I/tmp/pip-install-3g_7m5d4/pillow_f4fb465bc0a245ae80600f7650ef5afe/src/libImaging -I/usr/include/freetype2 -I/usr/include -I/usr/local/include -I/usr/include/python3.10 -I/usr/include/x86_64-linux-gnu -c src/libImaging/Convert.c -o build/temp.linux-x86_64-cpython-310/src/libImaging/Convert.o\n",
            "  x86_64-linux-gnu-gcc -Wno-unused-result -Wsign-compare -DNDEBUG -g -fwrapv -O2 -Wall -g -fstack-protector-strong -Wformat -Werror=format-security -g -fwrapv -O2 -fPIC -DHAVE_LIBJPEG -DHAVE_OPENJPEG -DHAVE_LIBZ -DHAVE_LIBTIFF -DPILLOW_VERSION=\\\"5.3.0\\\" -I/usr/include/openjpeg-2.4 -I/tmp/pip-install-3g_7m5d4/pillow_f4fb465bc0a245ae80600f7650ef5afe/src/libImaging -I/usr/include/freetype2 -I/usr/include -I/usr/local/include -I/usr/include/python3.10 -I/usr/include/x86_64-linux-gnu -c src/libImaging/ConvertYCbCr.c -o build/temp.linux-x86_64-cpython-310/src/libImaging/ConvertYCbCr.o\n",
            "  x86_64-linux-gnu-gcc -Wno-unused-result -Wsign-compare -DNDEBUG -g -fwrapv -O2 -Wall -g -fstack-protector-strong -Wformat -Werror=format-security -g -fwrapv -O2 -fPIC -DHAVE_LIBJPEG -DHAVE_OPENJPEG -DHAVE_LIBZ -DHAVE_LIBTIFF -DPILLOW_VERSION=\\\"5.3.0\\\" -I/usr/include/openjpeg-2.4 -I/tmp/pip-install-3g_7m5d4/pillow_f4fb465bc0a245ae80600f7650ef5afe/src/libImaging -I/usr/include/freetype2 -I/usr/include -I/usr/local/include -I/usr/include/python3.10 -I/usr/include/x86_64-linux-gnu -c src/libImaging/Copy.c -o build/temp.linux-x86_64-cpython-310/src/libImaging/Copy.o\n",
            "  x86_64-linux-gnu-gcc -Wno-unused-result -Wsign-compare -DNDEBUG -g -fwrapv -O2 -Wall -g -fstack-protector-strong -Wformat -Werror=format-security -g -fwrapv -O2 -fPIC -DHAVE_LIBJPEG -DHAVE_OPENJPEG -DHAVE_LIBZ -DHAVE_LIBTIFF -DPILLOW_VERSION=\\\"5.3.0\\\" -I/usr/include/openjpeg-2.4 -I/tmp/pip-install-3g_7m5d4/pillow_f4fb465bc0a245ae80600f7650ef5afe/src/libImaging -I/usr/include/freetype2 -I/usr/include -I/usr/local/include -I/usr/include/python3.10 -I/usr/include/x86_64-linux-gnu -c src/libImaging/Crop.c -o build/temp.linux-x86_64-cpython-310/src/libImaging/Crop.o\n",
            "  x86_64-linux-gnu-gcc -Wno-unused-result -Wsign-compare -DNDEBUG -g -fwrapv -O2 -Wall -g -fstack-protector-strong -Wformat -Werror=format-security -g -fwrapv -O2 -fPIC -DHAVE_LIBJPEG -DHAVE_OPENJPEG -DHAVE_LIBZ -DHAVE_LIBTIFF -DPILLOW_VERSION=\\\"5.3.0\\\" -I/usr/include/openjpeg-2.4 -I/tmp/pip-install-3g_7m5d4/pillow_f4fb465bc0a245ae80600f7650ef5afe/src/libImaging -I/usr/include/freetype2 -I/usr/include -I/usr/local/include -I/usr/include/python3.10 -I/usr/include/x86_64-linux-gnu -c src/libImaging/Dib.c -o build/temp.linux-x86_64-cpython-310/src/libImaging/Dib.o\n",
            "  x86_64-linux-gnu-gcc -Wno-unused-result -Wsign-compare -DNDEBUG -g -fwrapv -O2 -Wall -g -fstack-protector-strong -Wformat -Werror=format-security -g -fwrapv -O2 -fPIC -DHAVE_LIBJPEG -DHAVE_OPENJPEG -DHAVE_LIBZ -DHAVE_LIBTIFF -DPILLOW_VERSION=\\\"5.3.0\\\" -I/usr/include/openjpeg-2.4 -I/tmp/pip-install-3g_7m5d4/pillow_f4fb465bc0a245ae80600f7650ef5afe/src/libImaging -I/usr/include/freetype2 -I/usr/include -I/usr/local/include -I/usr/include/python3.10 -I/usr/include/x86_64-linux-gnu -c src/libImaging/Draw.c -o build/temp.linux-x86_64-cpython-310/src/libImaging/Draw.o\n",
            "  src/libImaging/Draw.c: In function ‘allocate’:\n",
            "  src/libImaging/Draw.c:973:31: warning: comparison of integer expressions of different signedness: ‘int’ and ‘long unsigned int’ [-Wsign-compare]\n",
            "    973 |             if (outline->size > INT_MAX / sizeof(Edge)) {\n",
            "        |                               ^\n",
            "  src/libImaging/Draw.c: In function ‘ImagingOutlineTransform’:\n",
            "  src/libImaging/Draw.c:1127:5: warning: ‘free’ called on pointer ‘*outline.edges’ with nonzero offset [32, 68719476704] [-Wfree-nonheap-object]\n",
            "   1127 |     free(eIn);\n",
            "        |     ^~~~~~~~~\n",
            "  x86_64-linux-gnu-gcc -Wno-unused-result -Wsign-compare -DNDEBUG -g -fwrapv -O2 -Wall -g -fstack-protector-strong -Wformat -Werror=format-security -g -fwrapv -O2 -fPIC -DHAVE_LIBJPEG -DHAVE_OPENJPEG -DHAVE_LIBZ -DHAVE_LIBTIFF -DPILLOW_VERSION=\\\"5.3.0\\\" -I/usr/include/openjpeg-2.4 -I/tmp/pip-install-3g_7m5d4/pillow_f4fb465bc0a245ae80600f7650ef5afe/src/libImaging -I/usr/include/freetype2 -I/usr/include -I/usr/local/include -I/usr/include/python3.10 -I/usr/include/x86_64-linux-gnu -c src/libImaging/Effects.c -o build/temp.linux-x86_64-cpython-310/src/libImaging/Effects.o\n",
            "  x86_64-linux-gnu-gcc -Wno-unused-result -Wsign-compare -DNDEBUG -g -fwrapv -O2 -Wall -g -fstack-protector-strong -Wformat -Werror=format-security -g -fwrapv -O2 -fPIC -DHAVE_LIBJPEG -DHAVE_OPENJPEG -DHAVE_LIBZ -DHAVE_LIBTIFF -DPILLOW_VERSION=\\\"5.3.0\\\" -I/usr/include/openjpeg-2.4 -I/tmp/pip-install-3g_7m5d4/pillow_f4fb465bc0a245ae80600f7650ef5afe/src/libImaging -I/usr/include/freetype2 -I/usr/include -I/usr/local/include -I/usr/include/python3.10 -I/usr/include/x86_64-linux-gnu -c src/libImaging/EpsEncode.c -o build/temp.linux-x86_64-cpython-310/src/libImaging/EpsEncode.o\n",
            "  x86_64-linux-gnu-gcc -Wno-unused-result -Wsign-compare -DNDEBUG -g -fwrapv -O2 -Wall -g -fstack-protector-strong -Wformat -Werror=format-security -g -fwrapv -O2 -fPIC -DHAVE_LIBJPEG -DHAVE_OPENJPEG -DHAVE_LIBZ -DHAVE_LIBTIFF -DPILLOW_VERSION=\\\"5.3.0\\\" -I/usr/include/openjpeg-2.4 -I/tmp/pip-install-3g_7m5d4/pillow_f4fb465bc0a245ae80600f7650ef5afe/src/libImaging -I/usr/include/freetype2 -I/usr/include -I/usr/local/include -I/usr/include/python3.10 -I/usr/include/x86_64-linux-gnu -c src/libImaging/File.c -o build/temp.linux-x86_64-cpython-310/src/libImaging/File.o\n",
            "  x86_64-linux-gnu-gcc -Wno-unused-result -Wsign-compare -DNDEBUG -g -fwrapv -O2 -Wall -g -fstack-protector-strong -Wformat -Werror=format-security -g -fwrapv -O2 -fPIC -DHAVE_LIBJPEG -DHAVE_OPENJPEG -DHAVE_LIBZ -DHAVE_LIBTIFF -DPILLOW_VERSION=\\\"5.3.0\\\" -I/usr/include/openjpeg-2.4 -I/tmp/pip-install-3g_7m5d4/pillow_f4fb465bc0a245ae80600f7650ef5afe/src/libImaging -I/usr/include/freetype2 -I/usr/include -I/usr/local/include -I/usr/include/python3.10 -I/usr/include/x86_64-linux-gnu -c src/libImaging/Fill.c -o build/temp.linux-x86_64-cpython-310/src/libImaging/Fill.o\n",
            "  x86_64-linux-gnu-gcc -Wno-unused-result -Wsign-compare -DNDEBUG -g -fwrapv -O2 -Wall -g -fstack-protector-strong -Wformat -Werror=format-security -g -fwrapv -O2 -fPIC -DHAVE_LIBJPEG -DHAVE_OPENJPEG -DHAVE_LIBZ -DHAVE_LIBTIFF -DPILLOW_VERSION=\\\"5.3.0\\\" -I/usr/include/openjpeg-2.4 -I/tmp/pip-install-3g_7m5d4/pillow_f4fb465bc0a245ae80600f7650ef5afe/src/libImaging -I/usr/include/freetype2 -I/usr/include -I/usr/local/include -I/usr/include/python3.10 -I/usr/include/x86_64-linux-gnu -c src/libImaging/Filter.c -o build/temp.linux-x86_64-cpython-310/src/libImaging/Filter.o\n",
            "  x86_64-linux-gnu-gcc -Wno-unused-result -Wsign-compare -DNDEBUG -g -fwrapv -O2 -Wall -g -fstack-protector-strong -Wformat -Werror=format-security -g -fwrapv -O2 -fPIC -DHAVE_LIBJPEG -DHAVE_OPENJPEG -DHAVE_LIBZ -DHAVE_LIBTIFF -DPILLOW_VERSION=\\\"5.3.0\\\" -I/usr/include/openjpeg-2.4 -I/tmp/pip-install-3g_7m5d4/pillow_f4fb465bc0a245ae80600f7650ef5afe/src/libImaging -I/usr/include/freetype2 -I/usr/include -I/usr/local/include -I/usr/include/python3.10 -I/usr/include/x86_64-linux-gnu -c src/libImaging/FliDecode.c -o build/temp.linux-x86_64-cpython-310/src/libImaging/FliDecode.o\n",
            "  x86_64-linux-gnu-gcc -Wno-unused-result -Wsign-compare -DNDEBUG -g -fwrapv -O2 -Wall -g -fstack-protector-strong -Wformat -Werror=format-security -g -fwrapv -O2 -fPIC -DHAVE_LIBJPEG -DHAVE_OPENJPEG -DHAVE_LIBZ -DHAVE_LIBTIFF -DPILLOW_VERSION=\\\"5.3.0\\\" -I/usr/include/openjpeg-2.4 -I/tmp/pip-install-3g_7m5d4/pillow_f4fb465bc0a245ae80600f7650ef5afe/src/libImaging -I/usr/include/freetype2 -I/usr/include -I/usr/local/include -I/usr/include/python3.10 -I/usr/include/x86_64-linux-gnu -c src/libImaging/Geometry.c -o build/temp.linux-x86_64-cpython-310/src/libImaging/Geometry.o\n",
            "  src/libImaging/Geometry.c:1006:25: warning: argument 8 of type ‘double[8]’ with mismatched bound [-Warray-parameter=]\n",
            "   1006 |                  double a[8], int filterid, int fill)\n",
            "        |                  ~~~~~~~^~~~\n",
            "  In file included from src/libImaging/Geometry.c:1:\n",
            "  src/libImaging/Imaging.h:318:13: note: previously declared as ‘double *’\n",
            "    318 |     double *a, int filter, int fill);\n",
            "        |     ~~~~~~~~^\n",
            "  x86_64-linux-gnu-gcc -Wno-unused-result -Wsign-compare -DNDEBUG -g -fwrapv -O2 -Wall -g -fstack-protector-strong -Wformat -Werror=format-security -g -fwrapv -O2 -fPIC -DHAVE_LIBJPEG -DHAVE_OPENJPEG -DHAVE_LIBZ -DHAVE_LIBTIFF -DPILLOW_VERSION=\\\"5.3.0\\\" -I/usr/include/openjpeg-2.4 -I/tmp/pip-install-3g_7m5d4/pillow_f4fb465bc0a245ae80600f7650ef5afe/src/libImaging -I/usr/include/freetype2 -I/usr/include -I/usr/local/include -I/usr/include/python3.10 -I/usr/include/x86_64-linux-gnu -c src/libImaging/GetBBox.c -o build/temp.linux-x86_64-cpython-310/src/libImaging/GetBBox.o\n",
            "  x86_64-linux-gnu-gcc -Wno-unused-result -Wsign-compare -DNDEBUG -g -fwrapv -O2 -Wall -g -fstack-protector-strong -Wformat -Werror=format-security -g -fwrapv -O2 -fPIC -DHAVE_LIBJPEG -DHAVE_OPENJPEG -DHAVE_LIBZ -DHAVE_LIBTIFF -DPILLOW_VERSION=\\\"5.3.0\\\" -I/usr/include/openjpeg-2.4 -I/tmp/pip-install-3g_7m5d4/pillow_f4fb465bc0a245ae80600f7650ef5afe/src/libImaging -I/usr/include/freetype2 -I/usr/include -I/usr/local/include -I/usr/include/python3.10 -I/usr/include/x86_64-linux-gnu -c src/libImaging/GifDecode.c -o build/temp.linux-x86_64-cpython-310/src/libImaging/GifDecode.o\n",
            "  x86_64-linux-gnu-gcc -Wno-unused-result -Wsign-compare -DNDEBUG -g -fwrapv -O2 -Wall -g -fstack-protector-strong -Wformat -Werror=format-security -g -fwrapv -O2 -fPIC -DHAVE_LIBJPEG -DHAVE_OPENJPEG -DHAVE_LIBZ -DHAVE_LIBTIFF -DPILLOW_VERSION=\\\"5.3.0\\\" -I/usr/include/openjpeg-2.4 -I/tmp/pip-install-3g_7m5d4/pillow_f4fb465bc0a245ae80600f7650ef5afe/src/libImaging -I/usr/include/freetype2 -I/usr/include -I/usr/local/include -I/usr/include/python3.10 -I/usr/include/x86_64-linux-gnu -c src/libImaging/GifEncode.c -o build/temp.linux-x86_64-cpython-310/src/libImaging/GifEncode.o\n",
            "  x86_64-linux-gnu-gcc -Wno-unused-result -Wsign-compare -DNDEBUG -g -fwrapv -O2 -Wall -g -fstack-protector-strong -Wformat -Werror=format-security -g -fwrapv -O2 -fPIC -DHAVE_LIBJPEG -DHAVE_OPENJPEG -DHAVE_LIBZ -DHAVE_LIBTIFF -DPILLOW_VERSION=\\\"5.3.0\\\" -I/usr/include/openjpeg-2.4 -I/tmp/pip-install-3g_7m5d4/pillow_f4fb465bc0a245ae80600f7650ef5afe/src/libImaging -I/usr/include/freetype2 -I/usr/include -I/usr/local/include -I/usr/include/python3.10 -I/usr/include/x86_64-linux-gnu -c src/libImaging/HexDecode.c -o build/temp.linux-x86_64-cpython-310/src/libImaging/HexDecode.o\n",
            "  x86_64-linux-gnu-gcc -Wno-unused-result -Wsign-compare -DNDEBUG -g -fwrapv -O2 -Wall -g -fstack-protector-strong -Wformat -Werror=format-security -g -fwrapv -O2 -fPIC -DHAVE_LIBJPEG -DHAVE_OPENJPEG -DHAVE_LIBZ -DHAVE_LIBTIFF -DPILLOW_VERSION=\\\"5.3.0\\\" -I/usr/include/openjpeg-2.4 -I/tmp/pip-install-3g_7m5d4/pillow_f4fb465bc0a245ae80600f7650ef5afe/src/libImaging -I/usr/include/freetype2 -I/usr/include -I/usr/local/include -I/usr/include/python3.10 -I/usr/include/x86_64-linux-gnu -c src/libImaging/Histo.c -o build/temp.linux-x86_64-cpython-310/src/libImaging/Histo.o\n",
            "  x86_64-linux-gnu-gcc -Wno-unused-result -Wsign-compare -DNDEBUG -g -fwrapv -O2 -Wall -g -fstack-protector-strong -Wformat -Werror=format-security -g -fwrapv -O2 -fPIC -DHAVE_LIBJPEG -DHAVE_OPENJPEG -DHAVE_LIBZ -DHAVE_LIBTIFF -DPILLOW_VERSION=\\\"5.3.0\\\" -I/usr/include/openjpeg-2.4 -I/tmp/pip-install-3g_7m5d4/pillow_f4fb465bc0a245ae80600f7650ef5afe/src/libImaging -I/usr/include/freetype2 -I/usr/include -I/usr/local/include -I/usr/include/python3.10 -I/usr/include/x86_64-linux-gnu -c src/libImaging/Jpeg2KDecode.c -o build/temp.linux-x86_64-cpython-310/src/libImaging/Jpeg2KDecode.o\n",
            "  src/libImaging/Jpeg2KDecode.c: In function ‘j2k_decode_entry’:\n",
            "  src/libImaging/Jpeg2KDecode.c:733:29: warning: comparison of integer expressions of different signedness: ‘OPJ_INT32’ {aka ‘int’} and ‘OPJ_UINT32’ {aka ‘unsigned int’} [-Wsign-compare]\n",
            "    733 |             || tile_info.x0 < image->x0\n",
            "        |                             ^\n",
            "  src/libImaging/Jpeg2KDecode.c:734:29: warning: comparison of integer expressions of different signedness: ‘OPJ_INT32’ {aka ‘int’} and ‘OPJ_UINT32’ {aka ‘unsigned int’} [-Wsign-compare]\n",
            "    734 |             || tile_info.y0 < image->y0\n",
            "        |                             ^\n",
            "  src/libImaging/Jpeg2KDecode.c:735:41: warning: comparison of integer expressions of different signedness: ‘OPJ_UINT32’ {aka ‘unsigned int’} and ‘int’ [-Wsign-compare]\n",
            "    735 |             || tile_info.x1 - image->x0 > im->xsize\n",
            "        |                                         ^\n",
            "  src/libImaging/Jpeg2KDecode.c:736:41: warning: comparison of integer expressions of different signedness: ‘OPJ_UINT32’ {aka ‘unsigned int’} and ‘int’ [-Wsign-compare]\n",
            "    736 |             || tile_info.y1 - image->y0 > im->ysize) {\n",
            "        |                                         ^\n",
            "  x86_64-linux-gnu-gcc -Wno-unused-result -Wsign-compare -DNDEBUG -g -fwrapv -O2 -Wall -g -fstack-protector-strong -Wformat -Werror=format-security -g -fwrapv -O2 -fPIC -DHAVE_LIBJPEG -DHAVE_OPENJPEG -DHAVE_LIBZ -DHAVE_LIBTIFF -DPILLOW_VERSION=\\\"5.3.0\\\" -I/usr/include/openjpeg-2.4 -I/tmp/pip-install-3g_7m5d4/pillow_f4fb465bc0a245ae80600f7650ef5afe/src/libImaging -I/usr/include/freetype2 -I/usr/include -I/usr/local/include -I/usr/include/python3.10 -I/usr/include/x86_64-linux-gnu -c src/libImaging/Jpeg2KEncode.c -o build/temp.linux-x86_64-cpython-310/src/libImaging/Jpeg2KEncode.o\n",
            "  src/libImaging/Jpeg2KEncode.c: In function ‘j2k_write’:\n",
            "  src/libImaging/Jpeg2KEncode.c:57:21: warning: operand of ‘?:’ changes signedness from ‘int’ to ‘long unsigned int’ due to unsignedness of other operand [-Wsign-compare]\n",
            "     57 |     return result ? result : (OPJ_SIZE_T)-1;\n",
            "        |                     ^~~~~~\n",
            "  src/libImaging/Jpeg2KEncode.c: In function ‘j2k_set_cinema_params’:\n",
            "  src/libImaging/Jpeg2KEncode.c:236:23: warning: comparison of integer expressions of different signedness: ‘unsigned int’ and ‘int’ [-Wsign-compare]\n",
            "    236 |         for (n = 0; n < params->tcp_numlayers; ++n) {\n",
            "        |                       ^\n",
            "  src/libImaging/Jpeg2KEncode.c:253:23: warning: comparison of integer expressions of different signedness: ‘unsigned int’ and ‘int’ [-Wsign-compare]\n",
            "    253 |         for (n = 0; n < params->tcp_numlayers; ++n) {\n",
            "        |                       ^\n",
            "  src/libImaging/Jpeg2KEncode.c: In function ‘j2k_encode_entry’:\n",
            "  src/libImaging/Jpeg2KEncode.c:400:21: warning: comparison of integer expressions of different signedness: ‘Py_ssize_t’ {aka ‘long int’} and ‘long unsigned int’ [-Wsign-compare]\n",
            "    400 |             if (len > sizeof(params.tcp_rates) / sizeof(params.tcp_rates[0]))\n",
            "        |                     ^\n",
            "  src/libImaging/Jpeg2KEncode.c:529:17: warning: comparison of integer expressions of different signedness: ‘unsigned int’ and ‘int’ [-Wsign-compare]\n",
            "    529 |         if (ty0 < params.image_offset_y0)\n",
            "        |                 ^\n",
            "  src/libImaging/Jpeg2KEncode.c:543:21: warning: comparison of integer expressions of different signedness: ‘unsigned int’ and ‘int’ [-Wsign-compare]\n",
            "    543 |             if (tx0 < params.image_offset_x0)\n",
            "        |                     ^\n",
            "  x86_64-linux-gnu-gcc -Wno-unused-result -Wsign-compare -DNDEBUG -g -fwrapv -O2 -Wall -g -fstack-protector-strong -Wformat -Werror=format-security -g -fwrapv -O2 -fPIC -DHAVE_LIBJPEG -DHAVE_OPENJPEG -DHAVE_LIBZ -DHAVE_LIBTIFF -DPILLOW_VERSION=\\\"5.3.0\\\" -I/usr/include/openjpeg-2.4 -I/tmp/pip-install-3g_7m5d4/pillow_f4fb465bc0a245ae80600f7650ef5afe/src/libImaging -I/usr/include/freetype2 -I/usr/include -I/usr/local/include -I/usr/include/python3.10 -I/usr/include/x86_64-linux-gnu -c src/libImaging/JpegDecode.c -o build/temp.linux-x86_64-cpython-310/src/libImaging/JpegDecode.o\n",
            "  x86_64-linux-gnu-gcc -Wno-unused-result -Wsign-compare -DNDEBUG -g -fwrapv -O2 -Wall -g -fstack-protector-strong -Wformat -Werror=format-security -g -fwrapv -O2 -fPIC -DHAVE_LIBJPEG -DHAVE_OPENJPEG -DHAVE_LIBZ -DHAVE_LIBTIFF -DPILLOW_VERSION=\\\"5.3.0\\\" -I/usr/include/openjpeg-2.4 -I/tmp/pip-install-3g_7m5d4/pillow_f4fb465bc0a245ae80600f7650ef5afe/src/libImaging -I/usr/include/freetype2 -I/usr/include -I/usr/local/include -I/usr/include/python3.10 -I/usr/include/x86_64-linux-gnu -c src/libImaging/JpegEncode.c -o build/temp.linux-x86_64-cpython-310/src/libImaging/JpegEncode.o\n",
            "  src/libImaging/JpegEncode.c: In function ‘ImagingJpegEncode’:\n",
            "  src/libImaging/JpegEncode.c:248:37: warning: comparison of integer expressions of different signedness: ‘int’ and ‘size_t’ {aka ‘long unsigned int’} [-Wsign-compare]\n",
            "    248 |         if (context->rawExifLen + 5 >  context->destination.pub.free_in_buffer){\n",
            "        |                                     ^\n",
            "  x86_64-linux-gnu-gcc -Wno-unused-result -Wsign-compare -DNDEBUG -g -fwrapv -O2 -Wall -g -fstack-protector-strong -Wformat -Werror=format-security -g -fwrapv -O2 -fPIC -DHAVE_LIBJPEG -DHAVE_OPENJPEG -DHAVE_LIBZ -DHAVE_LIBTIFF -DPILLOW_VERSION=\\\"5.3.0\\\" -I/usr/include/openjpeg-2.4 -I/tmp/pip-install-3g_7m5d4/pillow_f4fb465bc0a245ae80600f7650ef5afe/src/libImaging -I/usr/include/freetype2 -I/usr/include -I/usr/local/include -I/usr/include/python3.10 -I/usr/include/x86_64-linux-gnu -c src/libImaging/Matrix.c -o build/temp.linux-x86_64-cpython-310/src/libImaging/Matrix.o\n",
            "  x86_64-linux-gnu-gcc -Wno-unused-result -Wsign-compare -DNDEBUG -g -fwrapv -O2 -Wall -g -fstack-protector-strong -Wformat -Werror=format-security -g -fwrapv -O2 -fPIC -DHAVE_LIBJPEG -DHAVE_OPENJPEG -DHAVE_LIBZ -DHAVE_LIBTIFF -DPILLOW_VERSION=\\\"5.3.0\\\" -I/usr/include/openjpeg-2.4 -I/tmp/pip-install-3g_7m5d4/pillow_f4fb465bc0a245ae80600f7650ef5afe/src/libImaging -I/usr/include/freetype2 -I/usr/include -I/usr/local/include -I/usr/include/python3.10 -I/usr/include/x86_64-linux-gnu -c src/libImaging/ModeFilter.c -o build/temp.linux-x86_64-cpython-310/src/libImaging/ModeFilter.o\n",
            "  x86_64-linux-gnu-gcc -Wno-unused-result -Wsign-compare -DNDEBUG -g -fwrapv -O2 -Wall -g -fstack-protector-strong -Wformat -Werror=format-security -g -fwrapv -O2 -fPIC -DHAVE_LIBJPEG -DHAVE_OPENJPEG -DHAVE_LIBZ -DHAVE_LIBTIFF -DPILLOW_VERSION=\\\"5.3.0\\\" -I/usr/include/openjpeg-2.4 -I/tmp/pip-install-3g_7m5d4/pillow_f4fb465bc0a245ae80600f7650ef5afe/src/libImaging -I/usr/include/freetype2 -I/usr/include -I/usr/local/include -I/usr/include/python3.10 -I/usr/include/x86_64-linux-gnu -c src/libImaging/Negative.c -o build/temp.linux-x86_64-cpython-310/src/libImaging/Negative.o\n",
            "  x86_64-linux-gnu-gcc -Wno-unused-result -Wsign-compare -DNDEBUG -g -fwrapv -O2 -Wall -g -fstack-protector-strong -Wformat -Werror=format-security -g -fwrapv -O2 -fPIC -DHAVE_LIBJPEG -DHAVE_OPENJPEG -DHAVE_LIBZ -DHAVE_LIBTIFF -DPILLOW_VERSION=\\\"5.3.0\\\" -I/usr/include/openjpeg-2.4 -I/tmp/pip-install-3g_7m5d4/pillow_f4fb465bc0a245ae80600f7650ef5afe/src/libImaging -I/usr/include/freetype2 -I/usr/include -I/usr/local/include -I/usr/include/python3.10 -I/usr/include/x86_64-linux-gnu -c src/libImaging/Offset.c -o build/temp.linux-x86_64-cpython-310/src/libImaging/Offset.o\n",
            "  x86_64-linux-gnu-gcc -Wno-unused-result -Wsign-compare -DNDEBUG -g -fwrapv -O2 -Wall -g -fstack-protector-strong -Wformat -Werror=format-security -g -fwrapv -O2 -fPIC -DHAVE_LIBJPEG -DHAVE_OPENJPEG -DHAVE_LIBZ -DHAVE_LIBTIFF -DPILLOW_VERSION=\\\"5.3.0\\\" -I/usr/include/openjpeg-2.4 -I/tmp/pip-install-3g_7m5d4/pillow_f4fb465bc0a245ae80600f7650ef5afe/src/libImaging -I/usr/include/freetype2 -I/usr/include -I/usr/local/include -I/usr/include/python3.10 -I/usr/include/x86_64-linux-gnu -c src/libImaging/Pack.c -o build/temp.linux-x86_64-cpython-310/src/libImaging/Pack.o\n",
            "  x86_64-linux-gnu-gcc -Wno-unused-result -Wsign-compare -DNDEBUG -g -fwrapv -O2 -Wall -g -fstack-protector-strong -Wformat -Werror=format-security -g -fwrapv -O2 -fPIC -DHAVE_LIBJPEG -DHAVE_OPENJPEG -DHAVE_LIBZ -DHAVE_LIBTIFF -DPILLOW_VERSION=\\\"5.3.0\\\" -I/usr/include/openjpeg-2.4 -I/tmp/pip-install-3g_7m5d4/pillow_f4fb465bc0a245ae80600f7650ef5afe/src/libImaging -I/usr/include/freetype2 -I/usr/include -I/usr/local/include -I/usr/include/python3.10 -I/usr/include/x86_64-linux-gnu -c src/libImaging/PackDecode.c -o build/temp.linux-x86_64-cpython-310/src/libImaging/PackDecode.o\n",
            "  x86_64-linux-gnu-gcc -Wno-unused-result -Wsign-compare -DNDEBUG -g -fwrapv -O2 -Wall -g -fstack-protector-strong -Wformat -Werror=format-security -g -fwrapv -O2 -fPIC -DHAVE_LIBJPEG -DHAVE_OPENJPEG -DHAVE_LIBZ -DHAVE_LIBTIFF -DPILLOW_VERSION=\\\"5.3.0\\\" -I/usr/include/openjpeg-2.4 -I/tmp/pip-install-3g_7m5d4/pillow_f4fb465bc0a245ae80600f7650ef5afe/src/libImaging -I/usr/include/freetype2 -I/usr/include -I/usr/local/include -I/usr/include/python3.10 -I/usr/include/x86_64-linux-gnu -c src/libImaging/Palette.c -o build/temp.linux-x86_64-cpython-310/src/libImaging/Palette.o\n",
            "  In file included from /usr/include/string.h:535,\n",
            "                   from /usr/include/python3.10/Python.h:30,\n",
            "                   from src/libImaging/ImPlatform.h:10,\n",
            "                   from src/libImaging/Imaging.h:14,\n",
            "                   from src/libImaging/Palette.c:20:\n",
            "  In function ‘strncpy’,\n",
            "      inlined from ‘ImagingPaletteNew’ at src/libImaging/Palette.c:40:5:\n",
            "  /usr/include/x86_64-linux-gnu/bits/string_fortified.h:95:10: warning: ‘__builtin_strncpy’ specified bound 7 equals destination size [-Wstringop-truncation]\n",
            "     95 |   return __builtin___strncpy_chk (__dest, __src, __len,\n",
            "        |          ^~~~~~~~~~~~~~~~~~~~~~~~~~~~~~~~~~~~~~~~~~~~~~\n",
            "     96 |                                   __glibc_objsize (__dest));\n",
            "        |                                   ~~~~~~~~~~~~~~~~~~~~~~~~~\n",
            "  x86_64-linux-gnu-gcc -Wno-unused-result -Wsign-compare -DNDEBUG -g -fwrapv -O2 -Wall -g -fstack-protector-strong -Wformat -Werror=format-security -g -fwrapv -O2 -fPIC -DHAVE_LIBJPEG -DHAVE_OPENJPEG -DHAVE_LIBZ -DHAVE_LIBTIFF -DPILLOW_VERSION=\\\"5.3.0\\\" -I/usr/include/openjpeg-2.4 -I/tmp/pip-install-3g_7m5d4/pillow_f4fb465bc0a245ae80600f7650ef5afe/src/libImaging -I/usr/include/freetype2 -I/usr/include -I/usr/local/include -I/usr/include/python3.10 -I/usr/include/x86_64-linux-gnu -c src/libImaging/Paste.c -o build/temp.linux-x86_64-cpython-310/src/libImaging/Paste.o\n",
            "  x86_64-linux-gnu-gcc -Wno-unused-result -Wsign-compare -DNDEBUG -g -fwrapv -O2 -Wall -g -fstack-protector-strong -Wformat -Werror=format-security -g -fwrapv -O2 -fPIC -DHAVE_LIBJPEG -DHAVE_OPENJPEG -DHAVE_LIBZ -DHAVE_LIBTIFF -DPILLOW_VERSION=\\\"5.3.0\\\" -I/usr/include/openjpeg-2.4 -I/tmp/pip-install-3g_7m5d4/pillow_f4fb465bc0a245ae80600f7650ef5afe/src/libImaging -I/usr/include/freetype2 -I/usr/include -I/usr/local/include -I/usr/include/python3.10 -I/usr/include/x86_64-linux-gnu -c src/libImaging/PcdDecode.c -o build/temp.linux-x86_64-cpython-310/src/libImaging/PcdDecode.o\n",
            "  x86_64-linux-gnu-gcc -Wno-unused-result -Wsign-compare -DNDEBUG -g -fwrapv -O2 -Wall -g -fstack-protector-strong -Wformat -Werror=format-security -g -fwrapv -O2 -fPIC -DHAVE_LIBJPEG -DHAVE_OPENJPEG -DHAVE_LIBZ -DHAVE_LIBTIFF -DPILLOW_VERSION=\\\"5.3.0\\\" -I/usr/include/openjpeg-2.4 -I/tmp/pip-install-3g_7m5d4/pillow_f4fb465bc0a245ae80600f7650ef5afe/src/libImaging -I/usr/include/freetype2 -I/usr/include -I/usr/local/include -I/usr/include/python3.10 -I/usr/include/x86_64-linux-gnu -c src/libImaging/PcxDecode.c -o build/temp.linux-x86_64-cpython-310/src/libImaging/PcxDecode.o\n",
            "  x86_64-linux-gnu-gcc -Wno-unused-result -Wsign-compare -DNDEBUG -g -fwrapv -O2 -Wall -g -fstack-protector-strong -Wformat -Werror=format-security -g -fwrapv -O2 -fPIC -DHAVE_LIBJPEG -DHAVE_OPENJPEG -DHAVE_LIBZ -DHAVE_LIBTIFF -DPILLOW_VERSION=\\\"5.3.0\\\" -I/usr/include/openjpeg-2.4 -I/tmp/pip-install-3g_7m5d4/pillow_f4fb465bc0a245ae80600f7650ef5afe/src/libImaging -I/usr/include/freetype2 -I/usr/include -I/usr/local/include -I/usr/include/python3.10 -I/usr/include/x86_64-linux-gnu -c src/libImaging/PcxEncode.c -o build/temp.linux-x86_64-cpython-310/src/libImaging/PcxEncode.o\n",
            "  x86_64-linux-gnu-gcc -Wno-unused-result -Wsign-compare -DNDEBUG -g -fwrapv -O2 -Wall -g -fstack-protector-strong -Wformat -Werror=format-security -g -fwrapv -O2 -fPIC -DHAVE_LIBJPEG -DHAVE_OPENJPEG -DHAVE_LIBZ -DHAVE_LIBTIFF -DPILLOW_VERSION=\\\"5.3.0\\\" -I/usr/include/openjpeg-2.4 -I/tmp/pip-install-3g_7m5d4/pillow_f4fb465bc0a245ae80600f7650ef5afe/src/libImaging -I/usr/include/freetype2 -I/usr/include -I/usr/local/include -I/usr/include/python3.10 -I/usr/include/x86_64-linux-gnu -c src/libImaging/Point.c -o build/temp.linux-x86_64-cpython-310/src/libImaging/Point.o\n",
            "  x86_64-linux-gnu-gcc -Wno-unused-result -Wsign-compare -DNDEBUG -g -fwrapv -O2 -Wall -g -fstack-protector-strong -Wformat -Werror=format-security -g -fwrapv -O2 -fPIC -DHAVE_LIBJPEG -DHAVE_OPENJPEG -DHAVE_LIBZ -DHAVE_LIBTIFF -DPILLOW_VERSION=\\\"5.3.0\\\" -I/usr/include/openjpeg-2.4 -I/tmp/pip-install-3g_7m5d4/pillow_f4fb465bc0a245ae80600f7650ef5afe/src/libImaging -I/usr/include/freetype2 -I/usr/include -I/usr/local/include -I/usr/include/python3.10 -I/usr/include/x86_64-linux-gnu -c src/libImaging/Quant.c -o build/temp.linux-x86_64-cpython-310/src/libImaging/Quant.o\n",
            "  x86_64-linux-gnu-gcc -Wno-unused-result -Wsign-compare -DNDEBUG -g -fwrapv -O2 -Wall -g -fstack-protector-strong -Wformat -Werror=format-security -g -fwrapv -O2 -fPIC -DHAVE_LIBJPEG -DHAVE_OPENJPEG -DHAVE_LIBZ -DHAVE_LIBTIFF -DPILLOW_VERSION=\\\"5.3.0\\\" -I/usr/include/openjpeg-2.4 -I/tmp/pip-install-3g_7m5d4/pillow_f4fb465bc0a245ae80600f7650ef5afe/src/libImaging -I/usr/include/freetype2 -I/usr/include -I/usr/local/include -I/usr/include/python3.10 -I/usr/include/x86_64-linux-gnu -c src/libImaging/QuantHash.c -o build/temp.linux-x86_64-cpython-310/src/libImaging/QuantHash.o\n",
            "  x86_64-linux-gnu-gcc -Wno-unused-result -Wsign-compare -DNDEBUG -g -fwrapv -O2 -Wall -g -fstack-protector-strong -Wformat -Werror=format-security -g -fwrapv -O2 -fPIC -DHAVE_LIBJPEG -DHAVE_OPENJPEG -DHAVE_LIBZ -DHAVE_LIBTIFF -DPILLOW_VERSION=\\\"5.3.0\\\" -I/usr/include/openjpeg-2.4 -I/tmp/pip-install-3g_7m5d4/pillow_f4fb465bc0a245ae80600f7650ef5afe/src/libImaging -I/usr/include/freetype2 -I/usr/include -I/usr/local/include -I/usr/include/python3.10 -I/usr/include/x86_64-linux-gnu -c src/libImaging/QuantHeap.c -o build/temp.linux-x86_64-cpython-310/src/libImaging/QuantHeap.o\n",
            "  src/libImaging/QuantHeap.c: In function ‘_heap_grow’:\n",
            "  src/libImaging/QuantHeap.c:51:16: warning: comparison of integer expressions of different signedness: ‘int’ and ‘long unsigned int’ [-Wsign-compare]\n",
            "     51 |    if (newsize > INT_MAX / sizeof(void *)){\n",
            "        |                ^\n",
            "  x86_64-linux-gnu-gcc -Wno-unused-result -Wsign-compare -DNDEBUG -g -fwrapv -O2 -Wall -g -fstack-protector-strong -Wformat -Werror=format-security -g -fwrapv -O2 -fPIC -DHAVE_LIBJPEG -DHAVE_OPENJPEG -DHAVE_LIBZ -DHAVE_LIBTIFF -DPILLOW_VERSION=\\\"5.3.0\\\" -I/usr/include/openjpeg-2.4 -I/tmp/pip-install-3g_7m5d4/pillow_f4fb465bc0a245ae80600f7650ef5afe/src/libImaging -I/usr/include/freetype2 -I/usr/include -I/usr/local/include -I/usr/include/python3.10 -I/usr/include/x86_64-linux-gnu -c src/libImaging/QuantOctree.c -o build/temp.linux-x86_64-cpython-310/src/libImaging/QuantOctree.o\n",
            "  src/libImaging/QuantOctree.c: In function ‘create_sorted_color_palette’:\n",
            "  src/libImaging/QuantOctree.c:173:19: warning: comparison of integer expressions of different signedness: ‘long int’ and ‘long unsigned int’ [-Wsign-compare]\n",
            "    173 |    if (cube->size > LONG_MAX / sizeof(struct _ColorBucket)) {\n",
            "        |                   ^\n",
            "  src/libImaging/QuantOctree.c: In function ‘copy_color_cube’:\n",
            "  src/libImaging/QuantOctree.c:208:20: warning: comparison of integer expressions of different signedness: ‘unsigned int’ and ‘int’ [-Wsign-compare]\n",
            "    208 |    if (cube->rBits > rBits) {\n",
            "        |                    ^\n",
            "  src/libImaging/QuantOctree.c:215:20: warning: comparison of integer expressions of different signedness: ‘unsigned int’ and ‘int’ [-Wsign-compare]\n",
            "    215 |    if (cube->gBits > gBits) {\n",
            "        |                    ^\n",
            "  src/libImaging/QuantOctree.c:222:20: warning: comparison of integer expressions of different signedness: ‘unsigned int’ and ‘int’ [-Wsign-compare]\n",
            "    222 |    if (cube->bBits > bBits) {\n",
            "        |                    ^\n",
            "  src/libImaging/QuantOctree.c:229:20: warning: comparison of integer expressions of different signedness: ‘unsigned int’ and ‘int’ [-Wsign-compare]\n",
            "    229 |    if (cube->aBits > aBits) {\n",
            "        |                    ^\n",
            "  src/libImaging/QuantOctree.c: In function ‘combined_palette’:\n",
            "  src/libImaging/QuantOctree.c:308:30: warning: comparison of integer expressions of different signedness: ‘long int’ and ‘long unsigned int’ [-Wsign-compare]\n",
            "    308 |        (nBucketsA+nBucketsB) > LONG_MAX / sizeof(struct _ColorBucket)) {\n",
            "        |                              ^\n",
            "  x86_64-linux-gnu-gcc -Wno-unused-result -Wsign-compare -DNDEBUG -g -fwrapv -O2 -Wall -g -fstack-protector-strong -Wformat -Werror=format-security -g -fwrapv -O2 -fPIC -DHAVE_LIBJPEG -DHAVE_OPENJPEG -DHAVE_LIBZ -DHAVE_LIBTIFF -DPILLOW_VERSION=\\\"5.3.0\\\" -I/usr/include/openjpeg-2.4 -I/tmp/pip-install-3g_7m5d4/pillow_f4fb465bc0a245ae80600f7650ef5afe/src/libImaging -I/usr/include/freetype2 -I/usr/include -I/usr/local/include -I/usr/include/python3.10 -I/usr/include/x86_64-linux-gnu -c src/libImaging/QuantPngQuant.c -o build/temp.linux-x86_64-cpython-310/src/libImaging/QuantPngQuant.o\n",
            "  x86_64-linux-gnu-gcc -Wno-unused-result -Wsign-compare -DNDEBUG -g -fwrapv -O2 -Wall -g -fstack-protector-strong -Wformat -Werror=format-security -g -fwrapv -O2 -fPIC -DHAVE_LIBJPEG -DHAVE_OPENJPEG -DHAVE_LIBZ -DHAVE_LIBTIFF -DPILLOW_VERSION=\\\"5.3.0\\\" -I/usr/include/openjpeg-2.4 -I/tmp/pip-install-3g_7m5d4/pillow_f4fb465bc0a245ae80600f7650ef5afe/src/libImaging -I/usr/include/freetype2 -I/usr/include -I/usr/local/include -I/usr/include/python3.10 -I/usr/include/x86_64-linux-gnu -c src/libImaging/RankFilter.c -o build/temp.linux-x86_64-cpython-310/src/libImaging/RankFilter.o\n",
            "  src/libImaging/RankFilter.c: In function ‘ImagingRankFilter’:\n",
            "  src/libImaging/RankFilter.c:65:14: warning: comparison of integer expressions of different signedness: ‘int’ and ‘long unsigned int’ [-Wsign-compare]\n",
            "     65 |         size > INT_MAX / (size * sizeof(FLOAT32))) {\n",
            "        |              ^\n",
            "  x86_64-linux-gnu-gcc -Wno-unused-result -Wsign-compare -DNDEBUG -g -fwrapv -O2 -Wall -g -fstack-protector-strong -Wformat -Werror=format-security -g -fwrapv -O2 -fPIC -DHAVE_LIBJPEG -DHAVE_OPENJPEG -DHAVE_LIBZ -DHAVE_LIBTIFF -DPILLOW_VERSION=\\\"5.3.0\\\" -I/usr/include/openjpeg-2.4 -I/tmp/pip-install-3g_7m5d4/pillow_f4fb465bc0a245ae80600f7650ef5afe/src/libImaging -I/usr/include/freetype2 -I/usr/include -I/usr/local/include -I/usr/include/python3.10 -I/usr/include/x86_64-linux-gnu -c src/libImaging/RawDecode.c -o build/temp.linux-x86_64-cpython-310/src/libImaging/RawDecode.o\n",
            "  x86_64-linux-gnu-gcc -Wno-unused-result -Wsign-compare -DNDEBUG -g -fwrapv -O2 -Wall -g -fstack-protector-strong -Wformat -Werror=format-security -g -fwrapv -O2 -fPIC -DHAVE_LIBJPEG -DHAVE_OPENJPEG -DHAVE_LIBZ -DHAVE_LIBTIFF -DPILLOW_VERSION=\\\"5.3.0\\\" -I/usr/include/openjpeg-2.4 -I/tmp/pip-install-3g_7m5d4/pillow_f4fb465bc0a245ae80600f7650ef5afe/src/libImaging -I/usr/include/freetype2 -I/usr/include -I/usr/local/include -I/usr/include/python3.10 -I/usr/include/x86_64-linux-gnu -c src/libImaging/RawEncode.c -o build/temp.linux-x86_64-cpython-310/src/libImaging/RawEncode.o\n",
            "  x86_64-linux-gnu-gcc -Wno-unused-result -Wsign-compare -DNDEBUG -g -fwrapv -O2 -Wall -g -fstack-protector-strong -Wformat -Werror=format-security -g -fwrapv -O2 -fPIC -DHAVE_LIBJPEG -DHAVE_OPENJPEG -DHAVE_LIBZ -DHAVE_LIBTIFF -DPILLOW_VERSION=\\\"5.3.0\\\" -I/usr/include/openjpeg-2.4 -I/tmp/pip-install-3g_7m5d4/pillow_f4fb465bc0a245ae80600f7650ef5afe/src/libImaging -I/usr/include/freetype2 -I/usr/include -I/usr/local/include -I/usr/include/python3.10 -I/usr/include/x86_64-linux-gnu -c src/libImaging/Resample.c -o build/temp.linux-x86_64-cpython-310/src/libImaging/Resample.o\n",
            "  src/libImaging/Resample.c: In function ‘precompute_coeffs’:\n",
            "  src/libImaging/Resample.c:200:17: warning: comparison of integer expressions of different signedness: ‘int’ and ‘long unsigned int’ [-Wsign-compare]\n",
            "    200 |     if (outSize > INT_MAX / (ksize * sizeof(double))) {\n",
            "        |                 ^\n",
            "  x86_64-linux-gnu-gcc -Wno-unused-result -Wsign-compare -DNDEBUG -g -fwrapv -O2 -Wall -g -fstack-protector-strong -Wformat -Werror=format-security -g -fwrapv -O2 -fPIC -DHAVE_LIBJPEG -DHAVE_OPENJPEG -DHAVE_LIBZ -DHAVE_LIBTIFF -DPILLOW_VERSION=\\\"5.3.0\\\" -I/usr/include/openjpeg-2.4 -I/tmp/pip-install-3g_7m5d4/pillow_f4fb465bc0a245ae80600f7650ef5afe/src/libImaging -I/usr/include/freetype2 -I/usr/include -I/usr/local/include -I/usr/include/python3.10 -I/usr/include/x86_64-linux-gnu -c src/libImaging/SgiRleDecode.c -o build/temp.linux-x86_64-cpython-310/src/libImaging/SgiRleDecode.o\n",
            "  x86_64-linux-gnu-gcc -Wno-unused-result -Wsign-compare -DNDEBUG -g -fwrapv -O2 -Wall -g -fstack-protector-strong -Wformat -Werror=format-security -g -fwrapv -O2 -fPIC -DHAVE_LIBJPEG -DHAVE_OPENJPEG -DHAVE_LIBZ -DHAVE_LIBTIFF -DPILLOW_VERSION=\\\"5.3.0\\\" -I/usr/include/openjpeg-2.4 -I/tmp/pip-install-3g_7m5d4/pillow_f4fb465bc0a245ae80600f7650ef5afe/src/libImaging -I/usr/include/freetype2 -I/usr/include -I/usr/local/include -I/usr/include/python3.10 -I/usr/include/x86_64-linux-gnu -c src/libImaging/Storage.c -o build/temp.linux-x86_64-cpython-310/src/libImaging/Storage.o\n",
            "  x86_64-linux-gnu-gcc -Wno-unused-result -Wsign-compare -DNDEBUG -g -fwrapv -O2 -Wall -g -fstack-protector-strong -Wformat -Werror=format-security -g -fwrapv -O2 -fPIC -DHAVE_LIBJPEG -DHAVE_OPENJPEG -DHAVE_LIBZ -DHAVE_LIBTIFF -DPILLOW_VERSION=\\\"5.3.0\\\" -I/usr/include/openjpeg-2.4 -I/tmp/pip-install-3g_7m5d4/pillow_f4fb465bc0a245ae80600f7650ef5afe/src/libImaging -I/usr/include/freetype2 -I/usr/include -I/usr/local/include -I/usr/include/python3.10 -I/usr/include/x86_64-linux-gnu -c src/libImaging/SunRleDecode.c -o build/temp.linux-x86_64-cpython-310/src/libImaging/SunRleDecode.o\n",
            "  x86_64-linux-gnu-gcc -Wno-unused-result -Wsign-compare -DNDEBUG -g -fwrapv -O2 -Wall -g -fstack-protector-strong -Wformat -Werror=format-security -g -fwrapv -O2 -fPIC -DHAVE_LIBJPEG -DHAVE_OPENJPEG -DHAVE_LIBZ -DHAVE_LIBTIFF -DPILLOW_VERSION=\\\"5.3.0\\\" -I/usr/include/openjpeg-2.4 -I/tmp/pip-install-3g_7m5d4/pillow_f4fb465bc0a245ae80600f7650ef5afe/src/libImaging -I/usr/include/freetype2 -I/usr/include -I/usr/local/include -I/usr/include/python3.10 -I/usr/include/x86_64-linux-gnu -c src/libImaging/TgaRleDecode.c -o build/temp.linux-x86_64-cpython-310/src/libImaging/TgaRleDecode.o\n",
            "  x86_64-linux-gnu-gcc -Wno-unused-result -Wsign-compare -DNDEBUG -g -fwrapv -O2 -Wall -g -fstack-protector-strong -Wformat -Werror=format-security -g -fwrapv -O2 -fPIC -DHAVE_LIBJPEG -DHAVE_OPENJPEG -DHAVE_LIBZ -DHAVE_LIBTIFF -DPILLOW_VERSION=\\\"5.3.0\\\" -I/usr/include/openjpeg-2.4 -I/tmp/pip-install-3g_7m5d4/pillow_f4fb465bc0a245ae80600f7650ef5afe/src/libImaging -I/usr/include/freetype2 -I/usr/include -I/usr/local/include -I/usr/include/python3.10 -I/usr/include/x86_64-linux-gnu -c src/libImaging/TgaRleEncode.c -o build/temp.linux-x86_64-cpython-310/src/libImaging/TgaRleEncode.o\n",
            "  x86_64-linux-gnu-gcc -Wno-unused-result -Wsign-compare -DNDEBUG -g -fwrapv -O2 -Wall -g -fstack-protector-strong -Wformat -Werror=format-security -g -fwrapv -O2 -fPIC -DHAVE_LIBJPEG -DHAVE_OPENJPEG -DHAVE_LIBZ -DHAVE_LIBTIFF -DPILLOW_VERSION=\\\"5.3.0\\\" -I/usr/include/openjpeg-2.4 -I/tmp/pip-install-3g_7m5d4/pillow_f4fb465bc0a245ae80600f7650ef5afe/src/libImaging -I/usr/include/freetype2 -I/usr/include -I/usr/local/include -I/usr/include/python3.10 -I/usr/include/x86_64-linux-gnu -c src/libImaging/TiffDecode.c -o build/temp.linux-x86_64-cpython-310/src/libImaging/TiffDecode.o\n",
            "  In file included from src/libImaging/TiffDecode.c:21:\n",
            "  src/libImaging/TiffDecode.h:35:5: warning: ‘uint32’ is deprecated [-Wdeprecated-declarations]\n",
            "     35 |     uint32 ifd;   /* offset of the ifd, used for multipage\n",
            "        |     ^~~~~~\n",
            "  src/libImaging/TiffDecode.c: In function ‘ImagingLibTiffDecode’:\n",
            "  src/libImaging/TiffDecode.c:228:17: warning: ‘uint32’ is deprecated [-Wdeprecated-declarations]\n",
            "    228 |                 uint32 ifdoffset = clientstate->ifd;\n",
            "        |                 ^~~~~~\n",
            "  src/libImaging/TiffDecode.c:240:9: warning: ‘uint32’ is deprecated [-Wdeprecated-declarations]\n",
            "    240 |         uint32 x, y, tile_y;\n",
            "        |         ^~~~~~\n",
            "  src/libImaging/TiffDecode.c:240:9: warning: ‘uint32’ is deprecated [-Wdeprecated-declarations]\n",
            "  src/libImaging/TiffDecode.c:240:9: warning: ‘uint32’ is deprecated [-Wdeprecated-declarations]\n",
            "  src/libImaging/TiffDecode.c:241:9: warning: ‘uint32’ is deprecated [-Wdeprecated-declarations]\n",
            "    241 |         uint32 tileWidth, tileLength;\n",
            "        |         ^~~~~~\n",
            "  src/libImaging/TiffDecode.c:241:9: warning: ‘uint32’ is deprecated [-Wdeprecated-declarations]\n",
            "  src/libImaging/TiffDecode.c:268:33: warning: comparison of integer expressions of different signedness: ‘uint32’ {aka ‘unsigned int’} and ‘int’ [-Wsign-compare]\n",
            "    268 |         for (y = state->yoff; y < state->ysize; y += tileLength) {\n",
            "        |                                 ^\n",
            "  src/libImaging/TiffDecode.c:269:37: warning: comparison of integer expressions of different signedness: ‘uint32’ {aka ‘unsigned int’} and ‘int’ [-Wsign-compare]\n",
            "    269 |             for (x = state->xoff; x < state->xsize; x += tileWidth) {\n",
            "        |                                     ^\n",
            "  src/libImaging/TiffDecode.c:313:13: warning: ‘uint32’ is deprecated [-Wdeprecated-declarations]\n",
            "    313 |             if (TIFFReadScanline(tiff, (tdata_t)state->buffer, (uint32)state->y, 0) == -1) {\n",
            "        |             ^~\n",
            "  src/libImaging/TiffDecode.c: In function ‘ImagingLibTiffEncode’:\n",
            "  src/libImaging/TiffDecode.c:450:25: warning: ‘uint32’ is deprecated [-Wdeprecated-declarations]\n",
            "    450 |                         if (TIFFWriteScanline(tiff, (tdata_t)(state->buffer), (uint32)state->y, 0) == -1) {\n",
            "        |                         ^~\n",
            "  x86_64-linux-gnu-gcc -Wno-unused-result -Wsign-compare -DNDEBUG -g -fwrapv -O2 -Wall -g -fstack-protector-strong -Wformat -Werror=format-security -g -fwrapv -O2 -fPIC -DHAVE_LIBJPEG -DHAVE_OPENJPEG -DHAVE_LIBZ -DHAVE_LIBTIFF -DPILLOW_VERSION=\\\"5.3.0\\\" -I/usr/include/openjpeg-2.4 -I/tmp/pip-install-3g_7m5d4/pillow_f4fb465bc0a245ae80600f7650ef5afe/src/libImaging -I/usr/include/freetype2 -I/usr/include -I/usr/local/include -I/usr/include/python3.10 -I/usr/include/x86_64-linux-gnu -c src/libImaging/Unpack.c -o build/temp.linux-x86_64-cpython-310/src/libImaging/Unpack.o\n",
            "  x86_64-linux-gnu-gcc -Wno-unused-result -Wsign-compare -DNDEBUG -g -fwrapv -O2 -Wall -g -fstack-protector-strong -Wformat -Werror=format-security -g -fwrapv -O2 -fPIC -DHAVE_LIBJPEG -DHAVE_OPENJPEG -DHAVE_LIBZ -DHAVE_LIBTIFF -DPILLOW_VERSION=\\\"5.3.0\\\" -I/usr/include/openjpeg-2.4 -I/tmp/pip-install-3g_7m5d4/pillow_f4fb465bc0a245ae80600f7650ef5afe/src/libImaging -I/usr/include/freetype2 -I/usr/include -I/usr/local/include -I/usr/include/python3.10 -I/usr/include/x86_64-linux-gnu -c src/libImaging/UnpackYCC.c -o build/temp.linux-x86_64-cpython-310/src/libImaging/UnpackYCC.o\n",
            "  x86_64-linux-gnu-gcc -Wno-unused-result -Wsign-compare -DNDEBUG -g -fwrapv -O2 -Wall -g -fstack-protector-strong -Wformat -Werror=format-security -g -fwrapv -O2 -fPIC -DHAVE_LIBJPEG -DHAVE_OPENJPEG -DHAVE_LIBZ -DHAVE_LIBTIFF -DPILLOW_VERSION=\\\"5.3.0\\\" -I/usr/include/openjpeg-2.4 -I/tmp/pip-install-3g_7m5d4/pillow_f4fb465bc0a245ae80600f7650ef5afe/src/libImaging -I/usr/include/freetype2 -I/usr/include -I/usr/local/include -I/usr/include/python3.10 -I/usr/include/x86_64-linux-gnu -c src/libImaging/UnsharpMask.c -o build/temp.linux-x86_64-cpython-310/src/libImaging/UnsharpMask.o\n",
            "  x86_64-linux-gnu-gcc -Wno-unused-result -Wsign-compare -DNDEBUG -g -fwrapv -O2 -Wall -g -fstack-protector-strong -Wformat -Werror=format-security -g -fwrapv -O2 -fPIC -DHAVE_LIBJPEG -DHAVE_OPENJPEG -DHAVE_LIBZ -DHAVE_LIBTIFF -DPILLOW_VERSION=\\\"5.3.0\\\" -I/usr/include/openjpeg-2.4 -I/tmp/pip-install-3g_7m5d4/pillow_f4fb465bc0a245ae80600f7650ef5afe/src/libImaging -I/usr/include/freetype2 -I/usr/include -I/usr/local/include -I/usr/include/python3.10 -I/usr/include/x86_64-linux-gnu -c src/libImaging/XbmDecode.c -o build/temp.linux-x86_64-cpython-310/src/libImaging/XbmDecode.o\n",
            "  x86_64-linux-gnu-gcc -Wno-unused-result -Wsign-compare -DNDEBUG -g -fwrapv -O2 -Wall -g -fstack-protector-strong -Wformat -Werror=format-security -g -fwrapv -O2 -fPIC -DHAVE_LIBJPEG -DHAVE_OPENJPEG -DHAVE_LIBZ -DHAVE_LIBTIFF -DPILLOW_VERSION=\\\"5.3.0\\\" -I/usr/include/openjpeg-2.4 -I/tmp/pip-install-3g_7m5d4/pillow_f4fb465bc0a245ae80600f7650ef5afe/src/libImaging -I/usr/include/freetype2 -I/usr/include -I/usr/local/include -I/usr/include/python3.10 -I/usr/include/x86_64-linux-gnu -c src/libImaging/XbmEncode.c -o build/temp.linux-x86_64-cpython-310/src/libImaging/XbmEncode.o\n",
            "  x86_64-linux-gnu-gcc -Wno-unused-result -Wsign-compare -DNDEBUG -g -fwrapv -O2 -Wall -g -fstack-protector-strong -Wformat -Werror=format-security -g -fwrapv -O2 -fPIC -DHAVE_LIBJPEG -DHAVE_OPENJPEG -DHAVE_LIBZ -DHAVE_LIBTIFF -DPILLOW_VERSION=\\\"5.3.0\\\" -I/usr/include/openjpeg-2.4 -I/tmp/pip-install-3g_7m5d4/pillow_f4fb465bc0a245ae80600f7650ef5afe/src/libImaging -I/usr/include/freetype2 -I/usr/include -I/usr/local/include -I/usr/include/python3.10 -I/usr/include/x86_64-linux-gnu -c src/libImaging/ZipDecode.c -o build/temp.linux-x86_64-cpython-310/src/libImaging/ZipDecode.o\n",
            "  x86_64-linux-gnu-gcc -Wno-unused-result -Wsign-compare -DNDEBUG -g -fwrapv -O2 -Wall -g -fstack-protector-strong -Wformat -Werror=format-security -g -fwrapv -O2 -fPIC -DHAVE_LIBJPEG -DHAVE_OPENJPEG -DHAVE_LIBZ -DHAVE_LIBTIFF -DPILLOW_VERSION=\\\"5.3.0\\\" -I/usr/include/openjpeg-2.4 -I/tmp/pip-install-3g_7m5d4/pillow_f4fb465bc0a245ae80600f7650ef5afe/src/libImaging -I/usr/include/freetype2 -I/usr/include -I/usr/local/include -I/usr/include/python3.10 -I/usr/include/x86_64-linux-gnu -c src/libImaging/ZipEncode.c -o build/temp.linux-x86_64-cpython-310/src/libImaging/ZipEncode.o\n",
            "  x86_64-linux-gnu-gcc -Wno-unused-result -Wsign-compare -DNDEBUG -g -fwrapv -O2 -Wall -g -fstack-protector-strong -Wformat -Werror=format-security -g -fwrapv -O2 -fPIC -DHAVE_LIBJPEG -DHAVE_OPENJPEG -DHAVE_LIBZ -DHAVE_LIBTIFF -DPILLOW_VERSION=\\\"5.3.0\\\" -I/usr/include/openjpeg-2.4 -I/tmp/pip-install-3g_7m5d4/pillow_f4fb465bc0a245ae80600f7650ef5afe/src/libImaging -I/usr/include/freetype2 -I/usr/include -I/usr/local/include -I/usr/include/python3.10 -I/usr/include/x86_64-linux-gnu -c src/libImaging/codec_fd.c -o build/temp.linux-x86_64-cpython-310/src/libImaging/codec_fd.o\n",
            "  x86_64-linux-gnu-gcc -Wno-unused-result -Wsign-compare -DNDEBUG -g -fwrapv -O2 -Wall -g -fstack-protector-strong -Wformat -Werror=format-security -g -fwrapv -O2 -fPIC -DHAVE_LIBJPEG -DHAVE_OPENJPEG -DHAVE_LIBZ -DHAVE_LIBTIFF -DPILLOW_VERSION=\\\"5.3.0\\\" -I/usr/include/openjpeg-2.4 -I/tmp/pip-install-3g_7m5d4/pillow_f4fb465bc0a245ae80600f7650ef5afe/src/libImaging -I/usr/include/freetype2 -I/usr/include -I/usr/local/include -I/usr/include/python3.10 -I/usr/include/x86_64-linux-gnu -c src/map.c -o build/temp.linux-x86_64-cpython-310/src/map.o\n",
            "  x86_64-linux-gnu-gcc -Wno-unused-result -Wsign-compare -DNDEBUG -g -fwrapv -O2 -Wall -g -fstack-protector-strong -Wformat -Werror=format-security -g -fwrapv -O2 -fPIC -DHAVE_LIBJPEG -DHAVE_OPENJPEG -DHAVE_LIBZ -DHAVE_LIBTIFF -DPILLOW_VERSION=\\\"5.3.0\\\" -I/usr/include/openjpeg-2.4 -I/tmp/pip-install-3g_7m5d4/pillow_f4fb465bc0a245ae80600f7650ef5afe/src/libImaging -I/usr/include/freetype2 -I/usr/include -I/usr/local/include -I/usr/include/python3.10 -I/usr/include/x86_64-linux-gnu -c src/outline.c -o build/temp.linux-x86_64-cpython-310/src/outline.o\n",
            "  x86_64-linux-gnu-gcc -Wno-unused-result -Wsign-compare -DNDEBUG -g -fwrapv -O2 -Wall -g -fstack-protector-strong -Wformat -Werror=format-security -g -fwrapv -O2 -fPIC -DHAVE_LIBJPEG -DHAVE_OPENJPEG -DHAVE_LIBZ -DHAVE_LIBTIFF -DPILLOW_VERSION=\\\"5.3.0\\\" -I/usr/include/openjpeg-2.4 -I/tmp/pip-install-3g_7m5d4/pillow_f4fb465bc0a245ae80600f7650ef5afe/src/libImaging -I/usr/include/freetype2 -I/usr/include -I/usr/local/include -I/usr/include/python3.10 -I/usr/include/x86_64-linux-gnu -c src/path.c -o build/temp.linux-x86_64-cpython-310/src/path.o\n",
            "  src/path.c: In function ‘alloc_array’:\n",
            "  src/path.c:61:15: warning: comparison of integer expressions of different signedness: ‘Py_ssize_t’ {aka ‘long int’} and ‘long unsigned int’ [-Wsign-compare]\n",
            "     61 |     if (count > (SIZE_MAX / (2 * sizeof(double))) - 1 ) {\n",
            "        |               ^\n",
            "  x86_64-linux-gnu-gcc -shared -Wl,-O1 -Wl,-Bsymbolic-functions -Wl,-Bsymbolic-functions -g -fwrapv -O2 build/temp.linux-x86_64-cpython-310/src/_imaging.o build/temp.linux-x86_64-cpython-310/src/decode.o build/temp.linux-x86_64-cpython-310/src/display.o build/temp.linux-x86_64-cpython-310/src/encode.o build/temp.linux-x86_64-cpython-310/src/libImaging/Access.o build/temp.linux-x86_64-cpython-310/src/libImaging/AlphaComposite.o build/temp.linux-x86_64-cpython-310/src/libImaging/Bands.o build/temp.linux-x86_64-cpython-310/src/libImaging/BcnDecode.o build/temp.linux-x86_64-cpython-310/src/libImaging/BitDecode.o build/temp.linux-x86_64-cpython-310/src/libImaging/Blend.o build/temp.linux-x86_64-cpython-310/src/libImaging/BoxBlur.o build/temp.linux-x86_64-cpython-310/src/libImaging/Chops.o build/temp.linux-x86_64-cpython-310/src/libImaging/ColorLUT.o build/temp.linux-x86_64-cpython-310/src/libImaging/Convert.o build/temp.linux-x86_64-cpython-310/src/libImaging/ConvertYCbCr.o build/temp.linux-x86_64-cpython-310/src/libImaging/Copy.o build/temp.linux-x86_64-cpython-310/src/libImaging/Crop.o build/temp.linux-x86_64-cpython-310/src/libImaging/Dib.o build/temp.linux-x86_64-cpython-310/src/libImaging/Draw.o build/temp.linux-x86_64-cpython-310/src/libImaging/Effects.o build/temp.linux-x86_64-cpython-310/src/libImaging/EpsEncode.o build/temp.linux-x86_64-cpython-310/src/libImaging/File.o build/temp.linux-x86_64-cpython-310/src/libImaging/Fill.o build/temp.linux-x86_64-cpython-310/src/libImaging/Filter.o build/temp.linux-x86_64-cpython-310/src/libImaging/FliDecode.o build/temp.linux-x86_64-cpython-310/src/libImaging/Geometry.o build/temp.linux-x86_64-cpython-310/src/libImaging/GetBBox.o build/temp.linux-x86_64-cpython-310/src/libImaging/GifDecode.o build/temp.linux-x86_64-cpython-310/src/libImaging/GifEncode.o build/temp.linux-x86_64-cpython-310/src/libImaging/HexDecode.o build/temp.linux-x86_64-cpython-310/src/libImaging/Histo.o build/temp.linux-x86_64-cpython-310/src/libImaging/Jpeg2KDecode.o build/temp.linux-x86_64-cpython-310/src/libImaging/Jpeg2KEncode.o build/temp.linux-x86_64-cpython-310/src/libImaging/JpegDecode.o build/temp.linux-x86_64-cpython-310/src/libImaging/JpegEncode.o build/temp.linux-x86_64-cpython-310/src/libImaging/Matrix.o build/temp.linux-x86_64-cpython-310/src/libImaging/ModeFilter.o build/temp.linux-x86_64-cpython-310/src/libImaging/Negative.o build/temp.linux-x86_64-cpython-310/src/libImaging/Offset.o build/temp.linux-x86_64-cpython-310/src/libImaging/Pack.o build/temp.linux-x86_64-cpython-310/src/libImaging/PackDecode.o build/temp.linux-x86_64-cpython-310/src/libImaging/Palette.o build/temp.linux-x86_64-cpython-310/src/libImaging/Paste.o build/temp.linux-x86_64-cpython-310/src/libImaging/PcdDecode.o build/temp.linux-x86_64-cpython-310/src/libImaging/PcxDecode.o build/temp.linux-x86_64-cpython-310/src/libImaging/PcxEncode.o build/temp.linux-x86_64-cpython-310/src/libImaging/Point.o build/temp.linux-x86_64-cpython-310/src/libImaging/Quant.o build/temp.linux-x86_64-cpython-310/src/libImaging/QuantHash.o build/temp.linux-x86_64-cpython-310/src/libImaging/QuantHeap.o build/temp.linux-x86_64-cpython-310/src/libImaging/QuantOctree.o build/temp.linux-x86_64-cpython-310/src/libImaging/QuantPngQuant.o build/temp.linux-x86_64-cpython-310/src/libImaging/RankFilter.o build/temp.linux-x86_64-cpython-310/src/libImaging/RawDecode.o build/temp.linux-x86_64-cpython-310/src/libImaging/RawEncode.o build/temp.linux-x86_64-cpython-310/src/libImaging/Resample.o build/temp.linux-x86_64-cpython-310/src/libImaging/SgiRleDecode.o build/temp.linux-x86_64-cpython-310/src/libImaging/Storage.o build/temp.linux-x86_64-cpython-310/src/libImaging/SunRleDecode.o build/temp.linux-x86_64-cpython-310/src/libImaging/TgaRleDecode.o build/temp.linux-x86_64-cpython-310/src/libImaging/TgaRleEncode.o build/temp.linux-x86_64-cpython-310/src/libImaging/TiffDecode.o build/temp.linux-x86_64-cpython-310/src/libImaging/Unpack.o build/temp.linux-x86_64-cpython-310/src/libImaging/UnpackYCC.o build/temp.linux-x86_64-cpython-310/src/libImaging/UnsharpMask.o build/temp.linux-x86_64-cpython-310/src/libImaging/XbmDecode.o build/temp.linux-x86_64-cpython-310/src/libImaging/XbmEncode.o build/temp.linux-x86_64-cpython-310/src/libImaging/ZipDecode.o build/temp.linux-x86_64-cpython-310/src/libImaging/ZipEncode.o build/temp.linux-x86_64-cpython-310/src/libImaging/codec_fd.o build/temp.linux-x86_64-cpython-310/src/map.o build/temp.linux-x86_64-cpython-310/src/outline.o build/temp.linux-x86_64-cpython-310/src/path.o -L/usr/include/libpng16 -L/usr/local/cuda-12.2/targets/x86_64-linux/lib/stubs -L/usr/lib -L/usr/local/lib -L/usr/lib/x86_64-linux-gnu -ljpeg -lopenjp2 -lz -ltiff -o build/lib.linux-x86_64-cpython-310/PIL/_imaging.cpython-310-x86_64-linux-gnu.so\n",
            "  --------------------------------------------------------------------\n",
            "  PIL SETUP SUMMARY\n",
            "  --------------------------------------------------------------------\n",
            "  version      Pillow 5.3.0\n",
            "  platform     linux 3.10.12 (main, Nov 20 2023, 15:14:05)\n",
            "               [GCC 11.4.0]\n",
            "  --------------------------------------------------------------------\n",
            "  --- JPEG support available\n",
            "  --- OPENJPEG (JPEG2000) support available (2.4)\n",
            "  --- ZLIB (PNG/ZIP) support available\n",
            "  *** LIBIMAGEQUANT support not available\n",
            "  --- LIBTIFF support available\n",
            "  --- FREETYPE2 support available\n",
            "  *** LITTLECMS2 support not available\n",
            "  --- WEBP support available\n",
            "  --- WEBPMUX support available\n",
            "  --------------------------------------------------------------------\n",
            "  To add a missing option, make sure you have the required\n",
            "  library and headers.\n",
            "  See https://pillow.readthedocs.io/en/latest/installation.html#building-from-source\n",
            "\n",
            "  To check the build, run the selftest.py script.\n",
            "\n",
            "  /usr/local/lib/python3.10/dist-packages/setuptools/_distutils/cmd.py:66: SetuptoolsDeprecationWarning: setup.py install is deprecated.\n",
            "  !!\n",
            "\n",
            "          ********************************************************************************\n",
            "          Please avoid running ``setup.py`` directly.\n",
            "          Instead, use pypa/build, pypa/installer, pypa/build or\n",
            "          other standards-based tools.\n",
            "\n",
            "          See https://blog.ganssle.io/articles/2021/10/setup-py-deprecated.html for details.\n",
            "          ********************************************************************************\n",
            "\n",
            "  !!\n",
            "    self.initialize_options()\n",
            "  installing to build/bdist.linux-x86_64/wheel\n",
            "  running install\n",
            "  running install_lib\n",
            "  creating build/bdist.linux-x86_64\n",
            "  creating build/bdist.linux-x86_64/wheel\n",
            "  creating build/bdist.linux-x86_64/wheel/PIL\n",
            "  copying build/lib.linux-x86_64-cpython-310/PIL/GbrImagePlugin.py -> build/bdist.linux-x86_64/wheel/PIL\n",
            "  copying build/lib.linux-x86_64-cpython-310/PIL/PcdImagePlugin.py -> build/bdist.linux-x86_64/wheel/PIL\n",
            "  copying build/lib.linux-x86_64-cpython-310/PIL/OleFileIO.py -> build/bdist.linux-x86_64/wheel/PIL\n",
            "  copying build/lib.linux-x86_64-cpython-310/PIL/ImageMode.py -> build/bdist.linux-x86_64/wheel/PIL\n",
            "  copying build/lib.linux-x86_64-cpython-310/PIL/BmpImagePlugin.py -> build/bdist.linux-x86_64/wheel/PIL\n",
            "  copying build/lib.linux-x86_64-cpython-310/PIL/FpxImagePlugin.py -> build/bdist.linux-x86_64/wheel/PIL\n",
            "  copying build/lib.linux-x86_64-cpython-310/PIL/WebPImagePlugin.py -> build/bdist.linux-x86_64/wheel/PIL\n",
            "  copying build/lib.linux-x86_64-cpython-310/PIL/GdImageFile.py -> build/bdist.linux-x86_64/wheel/PIL\n",
            "  copying build/lib.linux-x86_64-cpython-310/PIL/ImageFont.py -> build/bdist.linux-x86_64/wheel/PIL\n",
            "  copying build/lib.linux-x86_64-cpython-310/PIL/SgiImagePlugin.py -> build/bdist.linux-x86_64/wheel/PIL\n",
            "  copying build/lib.linux-x86_64-cpython-310/PIL/BlpImagePlugin.py -> build/bdist.linux-x86_64/wheel/PIL\n",
            "  copying build/lib.linux-x86_64-cpython-310/PIL/ImageChops.py -> build/bdist.linux-x86_64/wheel/PIL\n",
            "  copying build/lib.linux-x86_64-cpython-310/PIL/_version.py -> build/bdist.linux-x86_64/wheel/PIL\n",
            "  copying build/lib.linux-x86_64-cpython-310/PIL/PngImagePlugin.py -> build/bdist.linux-x86_64/wheel/PIL\n",
            "  copying build/lib.linux-x86_64-cpython-310/PIL/SunImagePlugin.py -> build/bdist.linux-x86_64/wheel/PIL\n",
            "  copying build/lib.linux-x86_64-cpython-310/PIL/_webp.cpython-310-x86_64-linux-gnu.so -> build/bdist.linux-x86_64/wheel/PIL\n",
            "  copying build/lib.linux-x86_64-cpython-310/PIL/ExifTags.py -> build/bdist.linux-x86_64/wheel/PIL\n",
            "  copying build/lib.linux-x86_64-cpython-310/PIL/IcnsImagePlugin.py -> build/bdist.linux-x86_64/wheel/PIL\n",
            "  copying build/lib.linux-x86_64-cpython-310/PIL/_imaging.cpython-310-x86_64-linux-gnu.so -> build/bdist.linux-x86_64/wheel/PIL\n",
            "  copying build/lib.linux-x86_64-cpython-310/PIL/ContainerIO.py -> build/bdist.linux-x86_64/wheel/PIL\n",
            "  copying build/lib.linux-x86_64-cpython-310/PIL/ImageOps.py -> build/bdist.linux-x86_64/wheel/PIL\n",
            "  copying build/lib.linux-x86_64-cpython-310/PIL/ImageEnhance.py -> build/bdist.linux-x86_64/wheel/PIL\n",
            "  copying build/lib.linux-x86_64-cpython-310/PIL/Jpeg2KImagePlugin.py -> build/bdist.linux-x86_64/wheel/PIL\n",
            "  copying build/lib.linux-x86_64-cpython-310/PIL/EpsImagePlugin.py -> build/bdist.linux-x86_64/wheel/PIL\n",
            "  copying build/lib.linux-x86_64-cpython-310/PIL/TiffTags.py -> build/bdist.linux-x86_64/wheel/PIL\n",
            "  copying build/lib.linux-x86_64-cpython-310/PIL/PyAccess.py -> build/bdist.linux-x86_64/wheel/PIL\n",
            "  copying build/lib.linux-x86_64-cpython-310/PIL/JpegPresets.py -> build/bdist.linux-x86_64/wheel/PIL\n",
            "  copying build/lib.linux-x86_64-cpython-310/PIL/FontFile.py -> build/bdist.linux-x86_64/wheel/PIL\n",
            "  copying build/lib.linux-x86_64-cpython-310/PIL/__init__.py -> build/bdist.linux-x86_64/wheel/PIL\n",
            "  copying build/lib.linux-x86_64-cpython-310/PIL/FitsStubImagePlugin.py -> build/bdist.linux-x86_64/wheel/PIL\n",
            "  copying build/lib.linux-x86_64-cpython-310/PIL/_tkinter_finder.py -> build/bdist.linux-x86_64/wheel/PIL\n",
            "  copying build/lib.linux-x86_64-cpython-310/PIL/PaletteFile.py -> build/bdist.linux-x86_64/wheel/PIL\n",
            "  copying build/lib.linux-x86_64-cpython-310/PIL/ImageGrab.py -> build/bdist.linux-x86_64/wheel/PIL\n",
            "  copying build/lib.linux-x86_64-cpython-310/PIL/FtexImagePlugin.py -> build/bdist.linux-x86_64/wheel/PIL\n",
            "  copying build/lib.linux-x86_64-cpython-310/PIL/BdfFontFile.py -> build/bdist.linux-x86_64/wheel/PIL\n",
            "  copying build/lib.linux-x86_64-cpython-310/PIL/PdfParser.py -> build/bdist.linux-x86_64/wheel/PIL\n",
            "  copying build/lib.linux-x86_64-cpython-310/PIL/WmfImagePlugin.py -> build/bdist.linux-x86_64/wheel/PIL\n",
            "  copying build/lib.linux-x86_64-cpython-310/PIL/features.py -> build/bdist.linux-x86_64/wheel/PIL\n",
            "  copying build/lib.linux-x86_64-cpython-310/PIL/ImageSequence.py -> build/bdist.linux-x86_64/wheel/PIL\n",
            "  copying build/lib.linux-x86_64-cpython-310/PIL/ImageStat.py -> build/bdist.linux-x86_64/wheel/PIL\n",
            "  copying build/lib.linux-x86_64-cpython-310/PIL/TgaImagePlugin.py -> build/bdist.linux-x86_64/wheel/PIL\n",
            "  copying build/lib.linux-x86_64-cpython-310/PIL/PixarImagePlugin.py -> build/bdist.linux-x86_64/wheel/PIL\n",
            "  copying build/lib.linux-x86_64-cpython-310/PIL/GimpGradientFile.py -> build/bdist.linux-x86_64/wheel/PIL\n",
            "  copying build/lib.linux-x86_64-cpython-310/PIL/ImageMorph.py -> build/bdist.linux-x86_64/wheel/PIL\n",
            "  copying build/lib.linux-x86_64-cpython-310/PIL/ImImagePlugin.py -> build/bdist.linux-x86_64/wheel/PIL\n",
            "  copying build/lib.linux-x86_64-cpython-310/PIL/JpegImagePlugin.py -> build/bdist.linux-x86_64/wheel/PIL\n",
            "  copying build/lib.linux-x86_64-cpython-310/PIL/_util.py -> build/bdist.linux-x86_64/wheel/PIL\n",
            "  copying build/lib.linux-x86_64-cpython-310/PIL/ImageFile.py -> build/bdist.linux-x86_64/wheel/PIL\n",
            "  copying build/lib.linux-x86_64-cpython-310/PIL/XVThumbImagePlugin.py -> build/bdist.linux-x86_64/wheel/PIL\n",
            "  copying build/lib.linux-x86_64-cpython-310/PIL/PSDraw.py -> build/bdist.linux-x86_64/wheel/PIL\n",
            "  copying build/lib.linux-x86_64-cpython-310/PIL/ImtImagePlugin.py -> build/bdist.linux-x86_64/wheel/PIL\n",
            "  copying build/lib.linux-x86_64-cpython-310/PIL/ImageMath.py -> build/bdist.linux-x86_64/wheel/PIL\n",
            "  copying build/lib.linux-x86_64-cpython-310/PIL/PpmImagePlugin.py -> build/bdist.linux-x86_64/wheel/PIL\n",
            "  copying build/lib.linux-x86_64-cpython-310/PIL/ImageColor.py -> build/bdist.linux-x86_64/wheel/PIL\n",
            "  copying build/lib.linux-x86_64-cpython-310/PIL/WalImageFile.py -> build/bdist.linux-x86_64/wheel/PIL\n",
            "  copying build/lib.linux-x86_64-cpython-310/PIL/Image.py -> build/bdist.linux-x86_64/wheel/PIL\n",
            "  copying build/lib.linux-x86_64-cpython-310/PIL/MicImagePlugin.py -> build/bdist.linux-x86_64/wheel/PIL\n",
            "  copying build/lib.linux-x86_64-cpython-310/PIL/ImageShow.py -> build/bdist.linux-x86_64/wheel/PIL\n",
            "  copying build/lib.linux-x86_64-cpython-310/PIL/ImageDraw2.py -> build/bdist.linux-x86_64/wheel/PIL\n",
            "  copying build/lib.linux-x86_64-cpython-310/PIL/_imagingmorph.cpython-310-x86_64-linux-gnu.so -> build/bdist.linux-x86_64/wheel/PIL\n",
            "  copying build/lib.linux-x86_64-cpython-310/PIL/FliImagePlugin.py -> build/bdist.linux-x86_64/wheel/PIL\n",
            "  copying build/lib.linux-x86_64-cpython-310/PIL/PdfImagePlugin.py -> build/bdist.linux-x86_64/wheel/PIL\n",
            "  copying build/lib.linux-x86_64-cpython-310/PIL/_imagingmath.cpython-310-x86_64-linux-gnu.so -> build/bdist.linux-x86_64/wheel/PIL\n",
            "  copying build/lib.linux-x86_64-cpython-310/PIL/ImageWin.py -> build/bdist.linux-x86_64/wheel/PIL\n",
            "  copying build/lib.linux-x86_64-cpython-310/PIL/McIdasImagePlugin.py -> build/bdist.linux-x86_64/wheel/PIL\n",
            "  copying build/lib.linux-x86_64-cpython-310/PIL/ImageCms.py -> build/bdist.linux-x86_64/wheel/PIL\n",
            "  copying build/lib.linux-x86_64-cpython-310/PIL/IptcImagePlugin.py -> build/bdist.linux-x86_64/wheel/PIL\n",
            "  copying build/lib.linux-x86_64-cpython-310/PIL/SpiderImagePlugin.py -> build/bdist.linux-x86_64/wheel/PIL\n",
            "  copying build/lib.linux-x86_64-cpython-310/PIL/IcoImagePlugin.py -> build/bdist.linux-x86_64/wheel/PIL\n",
            "  copying build/lib.linux-x86_64-cpython-310/PIL/_binary.py -> build/bdist.linux-x86_64/wheel/PIL\n",
            "  copying build/lib.linux-x86_64-cpython-310/PIL/MspImagePlugin.py -> build/bdist.linux-x86_64/wheel/PIL\n",
            "  copying build/lib.linux-x86_64-cpython-310/PIL/Hdf5StubImagePlugin.py -> build/bdist.linux-x86_64/wheel/PIL\n",
            "  copying build/lib.linux-x86_64-cpython-310/PIL/ImageFilter.py -> build/bdist.linux-x86_64/wheel/PIL\n",
            "  copying build/lib.linux-x86_64-cpython-310/PIL/GimpPaletteFile.py -> build/bdist.linux-x86_64/wheel/PIL\n",
            "  copying build/lib.linux-x86_64-cpython-310/PIL/CurImagePlugin.py -> build/bdist.linux-x86_64/wheel/PIL\n",
            "  copying build/lib.linux-x86_64-cpython-310/PIL/PcfFontFile.py -> build/bdist.linux-x86_64/wheel/PIL\n",
            "  copying build/lib.linux-x86_64-cpython-310/PIL/PsdImagePlugin.py -> build/bdist.linux-x86_64/wheel/PIL\n",
            "  copying build/lib.linux-x86_64-cpython-310/PIL/_imagingtk.cpython-310-x86_64-linux-gnu.so -> build/bdist.linux-x86_64/wheel/PIL\n",
            "  copying build/lib.linux-x86_64-cpython-310/PIL/BufrStubImagePlugin.py -> build/bdist.linux-x86_64/wheel/PIL\n",
            "  copying build/lib.linux-x86_64-cpython-310/PIL/GribStubImagePlugin.py -> build/bdist.linux-x86_64/wheel/PIL\n",
            "  copying build/lib.linux-x86_64-cpython-310/PIL/MpoImagePlugin.py -> build/bdist.linux-x86_64/wheel/PIL\n",
            "  copying build/lib.linux-x86_64-cpython-310/PIL/XpmImagePlugin.py -> build/bdist.linux-x86_64/wheel/PIL\n",
            "  copying build/lib.linux-x86_64-cpython-310/PIL/DdsImagePlugin.py -> build/bdist.linux-x86_64/wheel/PIL\n",
            "  copying build/lib.linux-x86_64-cpython-310/PIL/PcxImagePlugin.py -> build/bdist.linux-x86_64/wheel/PIL\n",
            "  copying build/lib.linux-x86_64-cpython-310/PIL/XbmImagePlugin.py -> build/bdist.linux-x86_64/wheel/PIL\n",
            "  copying build/lib.linux-x86_64-cpython-310/PIL/MpegImagePlugin.py -> build/bdist.linux-x86_64/wheel/PIL\n",
            "  copying build/lib.linux-x86_64-cpython-310/PIL/GifImagePlugin.py -> build/bdist.linux-x86_64/wheel/PIL\n",
            "  copying build/lib.linux-x86_64-cpython-310/PIL/_imagingft.cpython-310-x86_64-linux-gnu.so -> build/bdist.linux-x86_64/wheel/PIL\n",
            "  copying build/lib.linux-x86_64-cpython-310/PIL/DcxImagePlugin.py -> build/bdist.linux-x86_64/wheel/PIL\n",
            "  copying build/lib.linux-x86_64-cpython-310/PIL/ImageQt.py -> build/bdist.linux-x86_64/wheel/PIL\n",
            "  copying build/lib.linux-x86_64-cpython-310/PIL/ImageTransform.py -> build/bdist.linux-x86_64/wheel/PIL\n",
            "  copying build/lib.linux-x86_64-cpython-310/PIL/TarIO.py -> build/bdist.linux-x86_64/wheel/PIL\n",
            "  copying build/lib.linux-x86_64-cpython-310/PIL/PalmImagePlugin.py -> build/bdist.linux-x86_64/wheel/PIL\n",
            "  copying build/lib.linux-x86_64-cpython-310/PIL/ImagePalette.py -> build/bdist.linux-x86_64/wheel/PIL\n",
            "  copying build/lib.linux-x86_64-cpython-310/PIL/ImageDraw.py -> build/bdist.linux-x86_64/wheel/PIL\n",
            "  copying build/lib.linux-x86_64-cpython-310/PIL/ImagePath.py -> build/bdist.linux-x86_64/wheel/PIL\n",
            "  copying build/lib.linux-x86_64-cpython-310/PIL/ImageTk.py -> build/bdist.linux-x86_64/wheel/PIL\n",
            "  copying build/lib.linux-x86_64-cpython-310/PIL/TiffImagePlugin.py -> build/bdist.linux-x86_64/wheel/PIL\n",
            "  running install_egg_info\n",
            "  Copying src/Pillow.egg-info to build/bdist.linux-x86_64/wheel/Pillow-5.3.0-py3.10.egg-info\n",
            "  running install_scripts\n",
            "  creating build/bdist.linux-x86_64/wheel/Pillow-5.3.0.dist-info/WHEEL\n",
            "  creating '/tmp/pip-wheel-ujbsd3np/Pillow-5.3.0-cp310-cp310-linux_x86_64.whl' and adding 'build/bdist.linux-x86_64/wheel' to it\n",
            "  adding 'PIL/BdfFontFile.py'\n",
            "  adding 'PIL/BlpImagePlugin.py'\n",
            "  adding 'PIL/BmpImagePlugin.py'\n",
            "  adding 'PIL/BufrStubImagePlugin.py'\n",
            "  adding 'PIL/ContainerIO.py'\n",
            "  adding 'PIL/CurImagePlugin.py'\n",
            "  adding 'PIL/DcxImagePlugin.py'\n",
            "  adding 'PIL/DdsImagePlugin.py'\n",
            "  adding 'PIL/EpsImagePlugin.py'\n",
            "  adding 'PIL/ExifTags.py'\n",
            "  adding 'PIL/FitsStubImagePlugin.py'\n",
            "  adding 'PIL/FliImagePlugin.py'\n",
            "  adding 'PIL/FontFile.py'\n",
            "  adding 'PIL/FpxImagePlugin.py'\n",
            "  adding 'PIL/FtexImagePlugin.py'\n",
            "  adding 'PIL/GbrImagePlugin.py'\n",
            "  adding 'PIL/GdImageFile.py'\n",
            "  adding 'PIL/GifImagePlugin.py'\n",
            "  adding 'PIL/GimpGradientFile.py'\n",
            "  adding 'PIL/GimpPaletteFile.py'\n",
            "  adding 'PIL/GribStubImagePlugin.py'\n",
            "  adding 'PIL/Hdf5StubImagePlugin.py'\n",
            "  adding 'PIL/IcnsImagePlugin.py'\n",
            "  adding 'PIL/IcoImagePlugin.py'\n",
            "  adding 'PIL/ImImagePlugin.py'\n",
            "  adding 'PIL/Image.py'\n",
            "  adding 'PIL/ImageChops.py'\n",
            "  adding 'PIL/ImageCms.py'\n",
            "  adding 'PIL/ImageColor.py'\n",
            "  adding 'PIL/ImageDraw.py'\n",
            "  adding 'PIL/ImageDraw2.py'\n",
            "  adding 'PIL/ImageEnhance.py'\n",
            "  adding 'PIL/ImageFile.py'\n",
            "  adding 'PIL/ImageFilter.py'\n",
            "  adding 'PIL/ImageFont.py'\n",
            "  adding 'PIL/ImageGrab.py'\n",
            "  adding 'PIL/ImageMath.py'\n",
            "  adding 'PIL/ImageMode.py'\n",
            "  adding 'PIL/ImageMorph.py'\n",
            "  adding 'PIL/ImageOps.py'\n",
            "  adding 'PIL/ImagePalette.py'\n",
            "  adding 'PIL/ImagePath.py'\n",
            "  adding 'PIL/ImageQt.py'\n",
            "  adding 'PIL/ImageSequence.py'\n",
            "  adding 'PIL/ImageShow.py'\n",
            "  adding 'PIL/ImageStat.py'\n",
            "  adding 'PIL/ImageTk.py'\n",
            "  adding 'PIL/ImageTransform.py'\n",
            "  adding 'PIL/ImageWin.py'\n",
            "  adding 'PIL/ImtImagePlugin.py'\n",
            "  adding 'PIL/IptcImagePlugin.py'\n",
            "  adding 'PIL/Jpeg2KImagePlugin.py'\n",
            "  adding 'PIL/JpegImagePlugin.py'\n",
            "  adding 'PIL/JpegPresets.py'\n",
            "  adding 'PIL/McIdasImagePlugin.py'\n",
            "  adding 'PIL/MicImagePlugin.py'\n",
            "  adding 'PIL/MpegImagePlugin.py'\n",
            "  adding 'PIL/MpoImagePlugin.py'\n",
            "  adding 'PIL/MspImagePlugin.py'\n",
            "  adding 'PIL/OleFileIO.py'\n",
            "  adding 'PIL/PSDraw.py'\n",
            "  adding 'PIL/PaletteFile.py'\n",
            "  adding 'PIL/PalmImagePlugin.py'\n",
            "  adding 'PIL/PcdImagePlugin.py'\n",
            "  adding 'PIL/PcfFontFile.py'\n",
            "  adding 'PIL/PcxImagePlugin.py'\n",
            "  adding 'PIL/PdfImagePlugin.py'\n",
            "  adding 'PIL/PdfParser.py'\n",
            "  adding 'PIL/PixarImagePlugin.py'\n",
            "  adding 'PIL/PngImagePlugin.py'\n",
            "  adding 'PIL/PpmImagePlugin.py'\n",
            "  adding 'PIL/PsdImagePlugin.py'\n",
            "  adding 'PIL/PyAccess.py'\n",
            "  adding 'PIL/SgiImagePlugin.py'\n",
            "  adding 'PIL/SpiderImagePlugin.py'\n",
            "  adding 'PIL/SunImagePlugin.py'\n",
            "  adding 'PIL/TarIO.py'\n",
            "  adding 'PIL/TgaImagePlugin.py'\n",
            "  adding 'PIL/TiffImagePlugin.py'\n",
            "  adding 'PIL/TiffTags.py'\n",
            "  adding 'PIL/WalImageFile.py'\n",
            "  adding 'PIL/WebPImagePlugin.py'\n",
            "  adding 'PIL/WmfImagePlugin.py'\n",
            "  adding 'PIL/XVThumbImagePlugin.py'\n",
            "  adding 'PIL/XbmImagePlugin.py'\n",
            "  adding 'PIL/XpmImagePlugin.py'\n",
            "  adding 'PIL/__init__.py'\n",
            "  adding 'PIL/_binary.py'\n",
            "  adding 'PIL/_imaging.cpython-310-x86_64-linux-gnu.so'\n",
            "  adding 'PIL/_imagingft.cpython-310-x86_64-linux-gnu.so'\n",
            "  adding 'PIL/_imagingmath.cpython-310-x86_64-linux-gnu.so'\n",
            "  adding 'PIL/_imagingmorph.cpython-310-x86_64-linux-gnu.so'\n",
            "  adding 'PIL/_imagingtk.cpython-310-x86_64-linux-gnu.so'\n",
            "  adding 'PIL/_tkinter_finder.py'\n",
            "  adding 'PIL/_util.py'\n",
            "  adding 'PIL/_version.py'\n",
            "  adding 'PIL/_webp.cpython-310-x86_64-linux-gnu.so'\n",
            "  adding 'PIL/features.py'\n",
            "  adding 'Pillow-5.3.0.dist-info/LICENSE'\n",
            "  adding 'Pillow-5.3.0.dist-info/METADATA'\n",
            "  adding 'Pillow-5.3.0.dist-info/WHEEL'\n",
            "  adding 'Pillow-5.3.0.dist-info/top_level.txt'\n",
            "  adding 'Pillow-5.3.0.dist-info/zip-safe'\n",
            "  adding 'Pillow-5.3.0.dist-info/RECORD'\n",
            "  removing build/bdist.linux-x86_64/wheel\n",
            "  Building wheel for Pillow (setup.py) ... \u001b[?25l\u001b[?25hdone\n",
            "  Created wheel for Pillow: filename=Pillow-5.3.0-cp310-cp310-linux_x86_64.whl size=1014400 sha256=a585b7df26b52bb89805c33c3953a4701781cc37bbdd9b95e277af9f5e9b26cb\n",
            "  Stored in directory: /root/.cache/pip/wheels/e2/3a/40/5c297d58820b8ed94409be8d00c0cfc762e382b1d2284031f2\n",
            "Successfully built Pillow\n",
            "Installing collected packages: Pillow\n",
            "\u001b[31mERROR: pip's dependency resolver does not currently take into account all the packages that are installed. This behaviour is the source of the following dependency conflicts.\n",
            "bokeh 3.3.4 requires pillow>=7.1.0, but you have pillow 5.3.0 which is incompatible.\n",
            "dopamine-rl 4.0.6 requires Pillow>=7.0.0, but you have pillow 5.3.0 which is incompatible.\n",
            "fastai 2.7.14 requires pillow>=9.0.0, but you have pillow 5.3.0 which is incompatible.\n",
            "imageio 2.31.6 requires pillow<10.1.0,>=8.3.2, but you have pillow 5.3.0 which is incompatible.\n",
            "matplotlib 3.7.1 requires pillow>=6.2.0, but you have pillow 5.3.0 which is incompatible.\n",
            "scikit-image 0.19.3 requires pillow!=7.1.0,!=7.1.1,!=8.3.0,>=6.1.0, but you have pillow 5.3.0 which is incompatible.\u001b[0m\u001b[31m\n",
            "\u001b[0mSuccessfully installed Pillow-5.3.0\n"
          ]
        },
        {
          "output_type": "display_data",
          "data": {
            "application/vnd.colab-display-data+json": {
              "pip_warning": {
                "packages": [
                  "PIL"
                ]
              }
            }
          },
          "metadata": {}
        }
      ]
    },
    {
      "cell_type": "code",
      "source": [
        "!pip install -U torch torchvision"
      ],
      "metadata": {
        "colab": {
          "base_uri": "https://localhost:8080/"
        },
        "id": "rgQz945AN_li",
        "outputId": "e8085d91-8839-45a0-ce7f-b2dae78e5a05"
      },
      "execution_count": null,
      "outputs": [
        {
          "output_type": "stream",
          "name": "stdout",
          "text": [
            "Requirement already satisfied: torch in /usr/local/lib/python3.10/dist-packages (2.2.0)\n",
            "Requirement already satisfied: torchvision in /usr/local/lib/python3.10/dist-packages (0.17.0)\n",
            "Requirement already satisfied: filelock in /usr/local/lib/python3.10/dist-packages (from torch) (3.13.1)\n",
            "Requirement already satisfied: typing-extensions>=4.8.0 in /usr/local/lib/python3.10/dist-packages (from torch) (4.9.0)\n",
            "Requirement already satisfied: sympy in /usr/local/lib/python3.10/dist-packages (from torch) (1.12)\n",
            "Requirement already satisfied: networkx in /usr/local/lib/python3.10/dist-packages (from torch) (3.2.1)\n",
            "Requirement already satisfied: jinja2 in /usr/local/lib/python3.10/dist-packages (from torch) (3.1.3)\n",
            "Requirement already satisfied: fsspec in /usr/local/lib/python3.10/dist-packages (from torch) (2023.6.0)\n",
            "Requirement already satisfied: nvidia-cuda-nvrtc-cu12==12.1.105 in /usr/local/lib/python3.10/dist-packages (from torch) (12.1.105)\n",
            "Requirement already satisfied: nvidia-cuda-runtime-cu12==12.1.105 in /usr/local/lib/python3.10/dist-packages (from torch) (12.1.105)\n",
            "Requirement already satisfied: nvidia-cuda-cupti-cu12==12.1.105 in /usr/local/lib/python3.10/dist-packages (from torch) (12.1.105)\n",
            "Requirement already satisfied: nvidia-cudnn-cu12==8.9.2.26 in /usr/local/lib/python3.10/dist-packages (from torch) (8.9.2.26)\n",
            "Requirement already satisfied: nvidia-cublas-cu12==12.1.3.1 in /usr/local/lib/python3.10/dist-packages (from torch) (12.1.3.1)\n",
            "Requirement already satisfied: nvidia-cufft-cu12==11.0.2.54 in /usr/local/lib/python3.10/dist-packages (from torch) (11.0.2.54)\n",
            "Requirement already satisfied: nvidia-curand-cu12==10.3.2.106 in /usr/local/lib/python3.10/dist-packages (from torch) (10.3.2.106)\n",
            "Requirement already satisfied: nvidia-cusolver-cu12==11.4.5.107 in /usr/local/lib/python3.10/dist-packages (from torch) (11.4.5.107)\n",
            "Requirement already satisfied: nvidia-cusparse-cu12==12.1.0.106 in /usr/local/lib/python3.10/dist-packages (from torch) (12.1.0.106)\n",
            "Requirement already satisfied: nvidia-nccl-cu12==2.19.3 in /usr/local/lib/python3.10/dist-packages (from torch) (2.19.3)\n",
            "Requirement already satisfied: nvidia-nvtx-cu12==12.1.105 in /usr/local/lib/python3.10/dist-packages (from torch) (12.1.105)\n",
            "Requirement already satisfied: triton==2.2.0 in /usr/local/lib/python3.10/dist-packages (from torch) (2.2.0)\n",
            "Requirement already satisfied: nvidia-nvjitlink-cu12 in /usr/local/lib/python3.10/dist-packages (from nvidia-cusolver-cu12==11.4.5.107->torch) (12.3.101)\n",
            "Requirement already satisfied: numpy in /usr/local/lib/python3.10/dist-packages (from torchvision) (1.25.2)\n",
            "Requirement already satisfied: requests in /usr/local/lib/python3.10/dist-packages (from torchvision) (2.31.0)\n",
            "Requirement already satisfied: pillow!=8.3.*,>=5.3.0 in /usr/local/lib/python3.10/dist-packages (from torchvision) (5.3.0)\n",
            "Requirement already satisfied: MarkupSafe>=2.0 in /usr/local/lib/python3.10/dist-packages (from jinja2->torch) (2.1.5)\n",
            "Requirement already satisfied: charset-normalizer<4,>=2 in /usr/local/lib/python3.10/dist-packages (from requests->torchvision) (3.3.2)\n",
            "Requirement already satisfied: idna<4,>=2.5 in /usr/local/lib/python3.10/dist-packages (from requests->torchvision) (3.6)\n",
            "Requirement already satisfied: urllib3<3,>=1.21.1 in /usr/local/lib/python3.10/dist-packages (from requests->torchvision) (2.0.7)\n",
            "Requirement already satisfied: certifi>=2017.4.17 in /usr/local/lib/python3.10/dist-packages (from requests->torchvision) (2024.2.2)\n",
            "Requirement already satisfied: mpmath>=0.19 in /usr/local/lib/python3.10/dist-packages (from sympy->torch) (1.3.0)\n"
          ]
        }
      ]
    },
    {
      "cell_type": "code",
      "source": [
        "# ИСПРАВЛЕНИЕ:\n",
        "# Вручную ищем и устанавливаем подходящуюю версию\n",
        "# https://download.pytorch.org/whl/torch_stable.html\n",
        "!pip install -q 'https://download.pytorch.org/whl/cu101/torch-1.5.0%2Bcu101-cp36-cp36m-linux_x86_64.whl' torchvision\n",
        "import torch"
      ],
      "metadata": {
        "id": "ED98YDAoPk4U"
      },
      "execution_count": null,
      "outputs": []
    },
    {
      "cell_type": "code",
      "source": [
        "# we will verify that GPU is enabled for this notebook\n",
        "# following should print: CUDA is available!  Training on GPU ...\n",
        "#\n",
        "# if it prints otherwise, then you need to enable GPU:\n",
        "# from Menu > Runtime > Change Runtime Type > Hardware Accelerator > GPU\n",
        "\n",
        "import torch\n",
        "import numpy as np\n",
        "\n",
        "train_on_gpu = torch.cuda.is_available()\n",
        "\n",
        "if not train_on_gpu:\n",
        "    print('CUDA is not available.  Training on CPU ...')\n",
        "else:\n",
        "    print('CUDA is available!  Training on GPU ...')"
      ],
      "metadata": {
        "colab": {
          "base_uri": "https://localhost:8080/"
        },
        "id": "fPJZbGDxPqLM",
        "outputId": "fbb24094-af33-448e-c475-0736326e56e5"
      },
      "execution_count": null,
      "outputs": [
        {
          "output_type": "stream",
          "name": "stdout",
          "text": [
            "CUDA is available!  Training on GPU ...\n"
          ]
        }
      ]
    },
    {
      "cell_type": "code",
      "source": [
        "!nvidia-smi\n",
        "import torch\n",
        "torch.cuda.is_available()"
      ],
      "metadata": {
        "colab": {
          "base_uri": "https://localhost:8080/"
        },
        "id": "0gxQGTfVPzAy",
        "outputId": "293f7557-4617-443a-ae2f-35c8e1e17054"
      },
      "execution_count": null,
      "outputs": [
        {
          "output_type": "stream",
          "name": "stdout",
          "text": [
            "Mon Feb 19 02:42:04 2024       \n",
            "+---------------------------------------------------------------------------------------+\n",
            "| NVIDIA-SMI 535.104.05             Driver Version: 535.104.05   CUDA Version: 12.2     |\n",
            "|-----------------------------------------+----------------------+----------------------+\n",
            "| GPU  Name                 Persistence-M | Bus-Id        Disp.A | Volatile Uncorr. ECC |\n",
            "| Fan  Temp   Perf          Pwr:Usage/Cap |         Memory-Usage | GPU-Util  Compute M. |\n",
            "|                                         |                      |               MIG M. |\n",
            "|=========================================+======================+======================|\n",
            "|   0  Tesla T4                       Off | 00000000:00:04.0 Off |                    0 |\n",
            "| N/A   35C    P8               9W /  70W |      3MiB / 15360MiB |      0%      Default |\n",
            "|                                         |                      |                  N/A |\n",
            "+-----------------------------------------+----------------------+----------------------+\n",
            "                                                                                         \n",
            "+---------------------------------------------------------------------------------------+\n",
            "| Processes:                                                                            |\n",
            "|  GPU   GI   CI        PID   Type   Process name                            GPU Memory |\n",
            "|        ID   ID                                                             Usage      |\n",
            "|=======================================================================================|\n",
            "|  No running processes found                                                           |\n",
            "+---------------------------------------------------------------------------------------+\n"
          ]
        },
        {
          "output_type": "execute_result",
          "data": {
            "text/plain": [
              "True"
            ]
          },
          "metadata": {},
          "execution_count": 6
        }
      ]
    },
    {
      "cell_type": "code",
      "source": [
        "import pickle\n",
        "import numpy as np\n",
        "from skimage import io\n",
        "\n",
        "from tqdm import tqdm, tqdm_notebook\n",
        "from PIL import Image\n",
        "from pathlib import Path\n",
        "\n",
        "from torchvision import transforms\n",
        "from multiprocessing.pool import ThreadPool\n",
        "from sklearn.preprocessing import LabelEncoder\n",
        "from torch.utils.data import Dataset, DataLoader\n",
        "import torch.nn as nn\n",
        "\n",
        "from matplotlib import colors, pyplot as plt\n",
        "%matplotlib inline\n",
        "\n",
        "# в sklearn не все гладко, чтобы в colab удобно выводить картинки\n",
        "# мы будем игнорировать warnings\n",
        "import warnings\n",
        "warnings.filterwarnings(action='ignore', category=DeprecationWarning)\n"
      ],
      "metadata": {
        "id": "waaF8qrXP3c3",
        "colab": {
          "base_uri": "https://localhost:8080/"
        },
        "outputId": "8d371dfc-6318-4801-e445-27d008aca5da"
      },
      "execution_count": null,
      "outputs": [
        {
          "output_type": "stream",
          "name": "stderr",
          "text": [
            "/usr/local/lib/python3.10/dist-packages/skimage/io/manage_plugins.py:23: UserWarning: Your installed pillow version is < 8.1.2. Several security issues (CVE-2021-27921, CVE-2021-25290, CVE-2021-25291, CVE-2021-25293, and more) have been fixed in pillow 8.1.2 or higher. We recommend to upgrade this library.\n",
            "  from .collection import imread_collection_wrapper\n",
            "/usr/local/lib/python3.10/dist-packages/transformers/utils/generic.py:441: UserWarning: torch.utils._pytree._register_pytree_node is deprecated. Please use torch.utils._pytree.register_pytree_node instead.\n",
            "  _torch_pytree._register_pytree_node(\n"
          ]
        }
      ]
    },
    {
      "cell_type": "code",
      "source": [
        "# разные режимы датасета\n",
        "DATA_MODES = ['train', 'val', 'test']\n",
        "# все изображения будут масштабированы к размеру 224x224 px\n",
        "RESCALE_SIZE = 224\n",
        "# работаем на видеокарте\n",
        "DEVICE = torch.device(\"cuda\")"
      ],
      "metadata": {
        "id": "X3tP_Gb7VSEY"
      },
      "execution_count": null,
      "outputs": []
    },
    {
      "cell_type": "code",
      "source": [
        "class SimpsonsDataset(Dataset):\n",
        "    \"\"\"\n",
        "    Датасет с картинками, который паралельно подгружает их из папок\n",
        "    производит скалирование и превращение в торчевые тензоры\n",
        "    \"\"\"\n",
        "    def __init__(self, files, mode):\n",
        "        super().__init__()\n",
        "        # список файлов для загрузки\n",
        "        self.files = sorted(files)\n",
        "        # режим работы\n",
        "        self.mode = mode\n",
        "\n",
        "        if self.mode not in DATA_MODES:\n",
        "            print(f\"{self.mode} is not correct; correct modes: {DATA_MODES}\")\n",
        "            raise NameError\n",
        "\n",
        "        self.len_ = len(self.files)\n",
        "\n",
        "        self.label_encoder = LabelEncoder()\n",
        "\n",
        "        if self.mode != 'test':\n",
        "            self.labels = [path.parent.name for path in self.files]\n",
        "            self.label_encoder.fit(self.labels)\n",
        "\n",
        "            with open('label_encoder.pkl', 'wb') as le_dump_file:\n",
        "                  pickle.dump(self.label_encoder, le_dump_file)\n",
        "\n",
        "    def __len__(self):\n",
        "        return self.len_\n",
        "\n",
        "    def load_sample(self, file):\n",
        "        image = Image.open(file)\n",
        "        image.load()\n",
        "        return image\n",
        "\n",
        "    def __getitem__(self, index):\n",
        "        # для преобразования изображений в тензоры PyTorch и нормализации входа\n",
        "        transform = transforms.Compose([\n",
        "            transforms.ToTensor(),\n",
        "            transforms.Normalize([0.485, 0.456, 0.406], [0.229, 0.224, 0.225])\n",
        "        ])\n",
        "        x = self.load_sample(self.files[index])\n",
        "        x = self._prepare_sample(x)\n",
        "        x = np.array(x / 255, dtype='float32')\n",
        "        x = transform(x)\n",
        "        if self.mode == 'test':\n",
        "            return x\n",
        "        else:\n",
        "            label = self.labels[index]\n",
        "            label_id = self.label_encoder.transform([label])\n",
        "            y = label_id.item()\n",
        "            return x, y\n",
        "\n",
        "    def _prepare_sample(self, image):\n",
        "        image = image.resize((RESCALE_SIZE, RESCALE_SIZE))\n",
        "        return np.array(image)"
      ],
      "metadata": {
        "id": "gctD5USIVE3X"
      },
      "execution_count": null,
      "outputs": []
    },
    {
      "cell_type": "code",
      "source": [
        "from google.colab import drive\n",
        "drive.mount('/content/gdrive/')"
      ],
      "metadata": {
        "colab": {
          "base_uri": "https://localhost:8080/"
        },
        "id": "7PCyIQaOOGfL",
        "outputId": "98bdc951-6947-4605-a386-18bcbadcd0a8"
      },
      "execution_count": null,
      "outputs": [
        {
          "output_type": "stream",
          "name": "stdout",
          "text": [
            "Mounted at /content/gdrive/\n"
          ]
        }
      ]
    },
    {
      "cell_type": "code",
      "source": [
        "!ls /content/gdrive/"
      ],
      "metadata": {
        "colab": {
          "base_uri": "https://localhost:8080/"
        },
        "id": "mwOiVFGVOMum",
        "outputId": "1a4f0db1-3a38-4a61-c705-87ca36055d17"
      },
      "execution_count": null,
      "outputs": [
        {
          "output_type": "stream",
          "name": "stdout",
          "text": [
            "MyDrive\n"
          ]
        }
      ]
    },
    {
      "cell_type": "code",
      "source": [
        "!unzip -q /content/gdrive/MyDrive/journey-springfield.zip"
      ],
      "metadata": {
        "id": "0w3rhrzjOQf9"
      },
      "execution_count": null,
      "outputs": []
    },
    {
      "cell_type": "code",
      "source": [
        "from pathlib import Path\n",
        "TRAIN_DIR = Path('train/simpsons_dataset')\n",
        "TEST_DIR = Path('testset/testset')\n",
        "\n",
        "train_val_files = sorted(list(TRAIN_DIR.rglob('*.jpg')))\n",
        "test_files = sorted(list(TEST_DIR.rglob('*.jpg')))\n",
        "print(len(train_val_files)) #=> 20933\n",
        "print(len(test_files)) #=> 991"
      ],
      "metadata": {
        "colab": {
          "base_uri": "https://localhost:8080/"
        },
        "id": "ma9D41vZO5qM",
        "outputId": "7cd96d23-ca7d-4d43-ed68-c8d8c37553dc"
      },
      "execution_count": null,
      "outputs": [
        {
          "output_type": "stream",
          "name": "stdout",
          "text": [
            "20933\n",
            "991\n"
          ]
        }
      ]
    },
    {
      "cell_type": "code",
      "source": [
        "def imshow(inp, title=None, plt_ax=plt, default=False):\n",
        "    \"\"\"Imshow для тензоров\"\"\"\n",
        "    inp = inp.numpy().transpose((1, 2, 0))\n",
        "    mean = np.array([0.485, 0.456, 0.406])\n",
        "    std = np.array([0.229, 0.224, 0.225])\n",
        "    inp = std * inp + mean\n",
        "    inp = np.clip(inp, 0, 1)\n",
        "    plt_ax.imshow(inp)\n",
        "    if title is not None:\n",
        "        plt_ax.set_title(title)\n",
        "    plt_ax.grid(False)"
      ],
      "metadata": {
        "id": "40kfdK2YP9AW"
      },
      "execution_count": null,
      "outputs": []
    },
    {
      "cell_type": "code",
      "source": [
        "from sklearn.model_selection import train_test_split\n",
        "\n",
        "train_val_labels = [path.parent.name for path in train_val_files]\n",
        "train_files, val_files = train_test_split(train_val_files, test_size=0.2, \\\n",
        "                                          stratify=train_val_labels)"
      ],
      "metadata": {
        "id": "9XPjF69MSbg-"
      },
      "execution_count": null,
      "outputs": []
    },
    {
      "cell_type": "code",
      "source": [
        "val_dataset = SimpsonsDataset(val_files, mode = 'val')\n",
        "train_dataset = SimpsonsDataset(train_files, mode = 'train')"
      ],
      "metadata": {
        "id": "bsSEEX6MVLXB"
      },
      "execution_count": null,
      "outputs": []
    },
    {
      "cell_type": "markdown",
      "source": [
        "**Выведение рандомной картинки на экран**"
      ],
      "metadata": {
        "id": "6IvIIMgATJAv"
      }
    },
    {
      "cell_type": "code",
      "source": [
        "fig, ax = plt.subplots(nrows=3, ncols=3,figsize=(8, 8), \\\n",
        "                        sharey=True, sharex=True)\n",
        "for fig_x in ax.flatten():\n",
        "    random_characters = int(np.random.uniform(0,1000))\n",
        "    im_val, label = val_dataset[random_characters]\n",
        "    img_label = \" \".join(map(lambda x: x.capitalize(),\\\n",
        "                val_dataset.label_encoder.inverse_transform([label])[0].split('_')))\n",
        "    imshow(im_val.data.cpu(), \\\n",
        "          title=img_label,plt_ax=fig_x)"
      ],
      "metadata": {
        "id": "8QvLYCN-TTlD"
      },
      "execution_count": null,
      "outputs": []
    },
    {
      "cell_type": "markdown",
      "source": [
        "**AlexNet**"
      ],
      "metadata": {
        "id": "IiScobfzWE2j"
      }
    },
    {
      "cell_type": "code",
      "source": [
        "class VGGNet_(nn.Module):\n",
        "  def __init__(self, n_classes):\n",
        "    super(VGGNet_, self).__init__()\n",
        "    self.conv1 = nn.Conv2d(in_channels = 3, out_channels = 64, kernel_size = 3, padding = 1)\n",
        "    self.conv2 = nn.Conv2d(in_channels = 64, out_channels = 64, kernel_size = 3, padding = 1)\n",
        "    self.pool1 = nn.MaxPool2d(kernel_size = 2, stride = 2)\n",
        "    self.conv3 = nn.Conv2d(in_channels = 64, out_channels = 128, kernel_size = 3, padding = 1)\n",
        "    self.conv4 = nn.Conv2d(in_channels = 128, out_channels = 128, kernel_size = 3, padding = 1)\n",
        "    self.pool2 = nn.MaxPool2d(kernel_size = 2, stride = 2)\n",
        "    self.conv5 = nn.Conv2d(in_channels = 128, out_channels = 256, kernel_size = 3, padding = 1)\n",
        "    self.conv6 = nn.Conv2d(in_channels = 256, out_channels = 256, kernel_size = 3, padding = 1)\n",
        "    self.pool3 = nn.MaxPool2d(kernel_size = 2, stride = 2)\n",
        "    self.conv7 = nn.Conv2d(in_channels = 256, out_channels = 512, kernel_size = 3, padding = 1)\n",
        "    self.conv8 = nn.Conv2d(in_channels = 512, out_channels = 512, kernel_size = 3, padding = 1)\n",
        "    self.conv9 = nn.Conv2d(in_channels = 512, out_channels = 512, kernel_size = 3, padding = 1)\n",
        "    self.pool4 = nn.MaxPool2d(kernel_size = 2, stride = 2)\n",
        "    self.conv10 = nn.Conv2d(in_channels = 512, out_channels = 512, kernel_size = 3, padding = 1)\n",
        "    self.conv11 = nn.Conv2d(in_channels = 512, out_channels = 512, kernel_size = 3, padding = 1)\n",
        "    self.conv12 = nn.Conv2d(in_channels = 512, out_channels = 512, kernel_size = 3, padding = 1)\n",
        "    self.pool5 = nn.MaxPool2d(kernel_size = 2, stride = 2)\n",
        "\n",
        "    self.Linear1 = nn.Linear(802816, 4096)\n",
        "    self.drop1 = nn.Dropout(p = 0.5)\n",
        "    self.Linear2 = nn.Linear(4096, 1024)\n",
        "    self.drop2 = nn.Dropout(p = 0.5)\n",
        "    self.Linear3 = nn.Linear(1024, n_classes)\n",
        "\n",
        "  def forward(self, x):\n",
        "    x = self.pool1(nn.functional.relu(self.conv2(nn.functional.relu(self.conv1(x)))))\n",
        "    x = self.pool2(nn.functional.relu(self.conv4(nn.functional.relu(self.conv3(x)))))\n",
        "    x = self.pool3(nn.functional.relu(self.conv6(nn.functional.relu(self.conv5(x)))))\n",
        "    x = self.pool4(nn.functional.relu(self.conv8(nn.functional.relu(self.conv7(x)))))\n",
        "    x = self.pool5(nn.functional.relu(self.conv11(nn.functional.relu(self.conv10(x)))))\n",
        "\n",
        "    print(x.shape)\n",
        "\n",
        "    x = x.view(-1, 802816)\n",
        "\n",
        "    x = self.drop1(nn.functional.relu(self.Linear1(x)))\n",
        "    x = self.drop2(nn.functional.relu(self.Linear2(x)))\n",
        "    logits = self.Linear3(x)\n",
        "\n",
        "    return logits"
      ],
      "metadata": {
        "id": "TN2nXys8WJx2"
      },
      "execution_count": null,
      "outputs": []
    },
    {
      "cell_type": "code",
      "source": [
        "class googlenet_(nn.Module):\n",
        "  def __init__(self, n_classes):\n",
        "    super(googlenet_, self).__init__()\n",
        "    self.conv1 = nn.Conv2d(in_channels = 3, out_channels = 64, kernel_size = 7, stride = 2)\n",
        "    self.pool1 = nn.MaxPool2d(kernel_size = 3, stride = 2)\n",
        "    self.conv2 = nn.Conv2d(in_channels = 64, out_channels = 192, kernel_size = 3, stride = 1)\n",
        "    self.pool2 = nn.MaxPool2d(kernel_size = 3, stride = 2)\n",
        "\n",
        "    self.pool3 = nn.MaxPool2d(kernel_size = 3, stride = 2)\n",
        "\n",
        "    self.pool4 = nn.MaxPool2d(kernel_size = 3, stride = 2)\n",
        "    self.pool5 = nn.AvgPool2d(kernel_size = 7, stride = 1)\n",
        "\n",
        "    self.drop1 = nn.Dropout(p = 0.4)\n",
        "    self.Linear1 = nn.Linear(1024, n_classes)\n",
        "\n",
        "  def incept(self, x, input_, o_1, o_2, o_3, o_4):\n",
        "    self.c1 = nn.Conv2d(in_channels = input_, out_channels = o_1, kernel_size = 1)\n",
        "    self.c2 = nn.Conv2d(in_channels = input_, out_channels = o_2, kernel_size = 3)\n",
        "    self.c3 = nn.Conv2d(in_channels = input_, out_channels = o_3, kernel_size = 5)\n",
        "    self.p1 = nn.MaxPool2d(kernel_size = 3)\n",
        "\n",
        "    x = x.to(DEVICE)\n",
        "\n",
        "    x1 = nn.functional.relu(self.c1(x)).to(DEVICE)\n",
        "    x2 = nn.functional.relu(self.c2(x)).to(DEVICE)\n",
        "    x3 = nn.functional.relu(self.c3(x)).to(DEVICE)\n",
        "    x4 = self.p1(x).to(DEVICE)\n",
        "\n",
        "    x = nn.functional.relu(torch.cat([x1, x2, x3, x4], 1)).to(DEVICE)\n",
        "\n",
        "    return x\n",
        "\n",
        "  def forward(self, x):\n",
        "    x = self.pool1(nn.functional.relu(self.conv1(x)))\n",
        "    x = self.pool2(nn.functional.relu(self.conv2(x)))\n",
        "\n",
        "    x = nn.functional.relu(self.incept(x, 192, 64, 128, 32, 32))\n",
        "    x = nn.functional.relu(self.incept(x, 256, 128, 192, 96, 64))\n",
        "    print(zalupa)\n",
        "    x = self.pool3(x)\n",
        "\n",
        "    x = nn.functional.relu(self.incept(x, 480, 192, 224, 48, 64))\n",
        "    x = nn.functional.relu(self.incept(x, 528, 256, 320, 128, 128))\n",
        "\n",
        "    x = self.pool4(x)\n",
        "\n",
        "    x = nn.functional.relu(self.incept(x, 832, 256, 320, 128, 128))\n",
        "    x = nn.functional.relu(self.incept(x, 832, 384, 384, 128, 128))\n",
        "\n",
        "    x = self.pool5(x)\n",
        "    x = x.view(-1, 1024)\n",
        "    x = self.drop1(x)\n",
        "    logits = self.Linear1(x)\n",
        "\n",
        "    return logits"
      ],
      "metadata": {
        "id": "cFWGyb0TIBkC"
      },
      "execution_count": null,
      "outputs": []
    },
    {
      "cell_type": "code",
      "source": [
        "class AlexNet_(nn.Module):\n",
        "  def __init__(self, n_classes):\n",
        "    super(AlexNet_, self).__init__()\n",
        "    self.conv1 = nn.Conv2d(in_channels = 3, out_channels = 96, kernel_size = 11, stride = 4)\n",
        "    self.pool1 = nn.MaxPool2d(kernel_size = 3, stride = 2)\n",
        "    self.conv2 = nn.Conv2d(in_channels = 96, out_channels = 256, kernel_size = 5, padding = 2)\n",
        "    self.pool2 = nn.MaxPool2d(kernel_size = 3, stride = 2)\n",
        "    self.conv3 = nn.Conv2d(in_channels = 256, out_channels = 384, kernel_size = 3, padding = 1)\n",
        "    self.conv4 = nn.Conv2d(in_channels = 384, out_channels = 384, kernel_size = 3, padding = 1)\n",
        "    self.conv5 = nn.Conv2d(in_channels = 384, out_channels = 256, kernel_size = 3, padding = 1)\n",
        "    self.pool3 = nn.MaxPool2d(kernel_size = 3, stride = 2)\n",
        "\n",
        "    self.Linear1 = nn.Linear(6400, 4096)\n",
        "    self.drop1 = nn.Dropout(p = 0.3)\n",
        "    self.Linear2 = nn.Linear(4096, 1000)\n",
        "    self.drop2 = nn.Dropout(p = 0.3)\n",
        "    self.Linear3 = nn.Linear(1000, n_classes)\n",
        "\n",
        "  def forward(self, x):\n",
        "    x = self.pool1(nn.functional.relu(self.conv1(x)))\n",
        "    x = self.pool2(nn.functional.relu(self.conv2(x)))\n",
        "    x = nn.functional.relu(self.conv4(nn.functional.relu(self.conv3(x))))\n",
        "    x = self.pool3(nn.functional.relu(self.conv5(x)))\n",
        "\n",
        "    x = x.view(-1, 5*5*256)\n",
        "\n",
        "    x = self.drop1(nn.functional.relu(self.Linear1(x)))\n",
        "    x = self.drop2(nn.functional.relu(self.Linear2(x)))\n",
        "    logits = self.Linear3(x)\n",
        "\n",
        "    return logits"
      ],
      "metadata": {
        "id": "1O6I6x4y0sP0"
      },
      "execution_count": null,
      "outputs": []
    },
    {
      "cell_type": "code",
      "source": [
        "def fit_epoch(model, train_loader, criterion, optim):\n",
        "  model.train()\n",
        "  running_loss = 0.0\n",
        "  running_corrects = 0\n",
        "  processed_data = 0\n",
        "\n",
        "  for inputs, labels in train_loader:\n",
        "    inputs = inputs.to(DEVICE)\n",
        "    labels = labels.to(DEVICE)\n",
        "    optim.zero_grad()\n",
        "\n",
        "    outp = model(inputs)\n",
        "    loss = criterion(outp, labels)\n",
        "    loss.backward()\n",
        "    optim.step()\n",
        "\n",
        "    preds = torch.argmax(outp, 1)\n",
        "    running_loss += loss.item() * inputs.size(0)\n",
        "    running_corrects += torch.sum(preds == labels.data)\n",
        "    processed_data += inputs.size(0)\n",
        "\n",
        "  train_loss = running_loss / processed_data\n",
        "  train_acc = running_corrects.cpu().numpy() / processed_data\n",
        "\n",
        "  return train_loss, train_acc"
      ],
      "metadata": {
        "id": "wpaX5v4WlQIT"
      },
      "execution_count": null,
      "outputs": []
    },
    {
      "cell_type": "code",
      "source": [
        "def eval_epoch(model, val_loader, criterion):\n",
        "  model.eval()\n",
        "  running_loss = 0.0\n",
        "  running_corrects = 0\n",
        "  processed_data = 0\n",
        "\n",
        "  for inputs, labels in val_loader:\n",
        "    inputs = inputs.to(DEVICE)\n",
        "    labels = labels.to(DEVICE)\n",
        "\n",
        "    with torch.set_grad_enabled(False):\n",
        "      outp = model(inputs)\n",
        "      loss = criterion(outp, labels)\n",
        "      preds = torch.argmax(outp, 1)\n",
        "\n",
        "    running_loss += loss.item() * inputs.size(0)\n",
        "    running_corrects += torch.sum(preds == labels.data)\n",
        "    processed_data += inputs.size(0)\n",
        "\n",
        "  val_loss = running_loss / processed_data\n",
        "  val_acc = running_corrects.double() / processed_data\n",
        "\n",
        "  return val_loss, val_acc"
      ],
      "metadata": {
        "id": "rMESy7950UXp"
      },
      "execution_count": null,
      "outputs": []
    },
    {
      "cell_type": "code",
      "source": [
        "def train(model, train_files, val_files, epochs, batch_size, lr):\n",
        "  train_loader = DataLoader(train_dataset, batch_size = batch_size, shuffle = True)\n",
        "  val_loader = DataLoader(val_dataset, batch_size = batch_size, shuffle = False)\n",
        "\n",
        "  history = []\n",
        "  log_template = \"\\nEpoch {ep:03d} train_loss: {t_loss:0.4f} \\\n",
        "  val_loss {v_loss:0.4f} train_acc {t_acc:0.4f} val_acc {v_acc:0.4f}\"\n",
        "\n",
        "  with tqdm(desc = 'epoch', total = epochs) as pbar_outer:\n",
        "    optim = torch.optim.Adam(model.parameters(), lr)\n",
        "    criterion = nn.CrossEntropyLoss()\n",
        "\n",
        "    for epoch in range(epochs):\n",
        "      train_loss, train_acc = fit_epoch(model, train_loader, criterion, optim)\n",
        "      print('loss: ', train_loss)\n",
        "\n",
        "      val_loss, val_acc = eval_epoch(model, val_loader, criterion)\n",
        "      history.append((train_loss, train_acc, val_loss, val_acc))\n",
        "\n",
        "      pbar_outer.update(1)\n",
        "      tqdm.write(log_template.format(ep = epoch + 1, t_loss = train_loss, v_loss = val_loss, t_acc = train_acc, v_acc = val_acc))\n",
        "\n",
        "  return history"
      ],
      "metadata": {
        "id": "YKL5DQX82JrN"
      },
      "execution_count": null,
      "outputs": []
    },
    {
      "cell_type": "code",
      "source": [
        "def predict(model, test_loader):\n",
        "  with torch.no_grad():\n",
        "    logits = []\n",
        "\n",
        "    for inputs in test_loader:\n",
        "      inputs = inputs.to(DEVICE)\n",
        "      model.eval()\n",
        "      outp = model(inputs).cpu()\n",
        "      logits.append(outp)\n",
        "\n",
        "  preds = nn.functional.softmax(torch.cat(logits), dim = -1).numpy()\n",
        "\n",
        "  return preds"
      ],
      "metadata": {
        "id": "QoXWkjdJ9wnf"
      },
      "execution_count": null,
      "outputs": []
    },
    {
      "cell_type": "markdown",
      "source": [
        "**Обучение AlexNet**"
      ],
      "metadata": {
        "id": "woWkLnqV-xSh"
      }
    },
    {
      "cell_type": "code",
      "source": [
        "n_classes = len(np.unique(train_val_labels))\n",
        "alexnet_ = AlexNet_(n_classes).to(DEVICE)\n",
        "\n",
        "history = train(alexnet_, train_dataset, val_dataset, epochs = 15, batch_size = 128, lr = 1e-4)"
      ],
      "metadata": {
        "colab": {
          "base_uri": "https://localhost:8080/"
        },
        "id": "a2qZ7To4-6CM",
        "outputId": "b05bbe4a-be8e-4663-aa1c-f4fbf0f5a0bf"
      },
      "execution_count": null,
      "outputs": [
        {
          "output_type": "stream",
          "name": "stderr",
          "text": [
            "\repoch:   0%|          | 0/15 [00:00<?, ?it/s]"
          ]
        },
        {
          "output_type": "stream",
          "name": "stdout",
          "text": [
            "loss:  2.978886388755679\n"
          ]
        },
        {
          "output_type": "stream",
          "name": "stderr",
          "text": [
            "epoch:   7%|▋         | 1/15 [01:27<20:30, 87.87s/it]"
          ]
        },
        {
          "output_type": "stream",
          "name": "stdout",
          "text": [
            "\n",
            "Epoch 001 train_loss: 2.9789   val_loss 2.5483 train_acc 0.1522 val_acc 0.2642\n",
            "loss:  2.1421051848593913\n"
          ]
        },
        {
          "output_type": "stream",
          "name": "stderr",
          "text": [
            "epoch:  13%|█▎        | 2/15 [02:39<16:59, 78.39s/it]"
          ]
        },
        {
          "output_type": "stream",
          "name": "stdout",
          "text": [
            "\n",
            "Epoch 002 train_loss: 2.1421   val_loss 1.6408 train_acc 0.4003 val_acc 0.5486\n",
            "loss:  1.482201325883436\n"
          ]
        },
        {
          "output_type": "stream",
          "name": "stderr",
          "text": [
            "epoch:  20%|██        | 3/15 [03:51<15:05, 75.47s/it]"
          ]
        },
        {
          "output_type": "stream",
          "name": "stdout",
          "text": [
            "\n",
            "Epoch 003 train_loss: 1.4822   val_loss 1.2616 train_acc 0.5841 val_acc 0.6487\n",
            "loss:  1.1232064668029977\n"
          ]
        },
        {
          "output_type": "stream",
          "name": "stderr",
          "text": [
            "epoch:  27%|██▋       | 4/15 [05:04<13:38, 74.39s/it]"
          ]
        },
        {
          "output_type": "stream",
          "name": "stdout",
          "text": [
            "\n",
            "Epoch 004 train_loss: 1.1232   val_loss 1.0806 train_acc 0.6769 val_acc 0.6938\n",
            "loss:  0.8844025291366331\n"
          ]
        },
        {
          "output_type": "stream",
          "name": "stderr",
          "text": [
            "epoch:  33%|███▎      | 5/15 [06:17<12:17, 73.78s/it]"
          ]
        },
        {
          "output_type": "stream",
          "name": "stdout",
          "text": [
            "\n",
            "Epoch 005 train_loss: 0.8844   val_loss 0.8651 train_acc 0.7497 val_acc 0.7612\n",
            "loss:  0.6920318939801714\n"
          ]
        },
        {
          "output_type": "stream",
          "name": "stderr",
          "text": [
            "epoch:  40%|████      | 6/15 [07:28<10:57, 73.07s/it]"
          ]
        },
        {
          "output_type": "stream",
          "name": "stdout",
          "text": [
            "\n",
            "Epoch 006 train_loss: 0.6920   val_loss 0.7590 train_acc 0.8015 val_acc 0.7984\n",
            "loss:  0.5414778191627859\n"
          ]
        },
        {
          "output_type": "stream",
          "name": "stderr",
          "text": [
            "epoch:  47%|████▋     | 7/15 [08:40<09:41, 72.64s/it]"
          ]
        },
        {
          "output_type": "stream",
          "name": "stdout",
          "text": [
            "\n",
            "Epoch 007 train_loss: 0.5415   val_loss 0.6906 train_acc 0.8422 val_acc 0.8159\n",
            "loss:  0.4044827380075572\n"
          ]
        },
        {
          "output_type": "stream",
          "name": "stderr",
          "text": [
            "epoch:  53%|█████▎    | 8/15 [09:57<08:39, 74.17s/it]"
          ]
        },
        {
          "output_type": "stream",
          "name": "stdout",
          "text": [
            "\n",
            "Epoch 008 train_loss: 0.4045   val_loss 0.6669 train_acc 0.8817 val_acc 0.8268\n",
            "loss:  0.303449310560772\n"
          ]
        },
        {
          "output_type": "stream",
          "name": "stderr",
          "text": [
            "epoch:  60%|██████    | 9/15 [11:09<07:20, 73.37s/it]"
          ]
        },
        {
          "output_type": "stream",
          "name": "stdout",
          "text": [
            "\n",
            "Epoch 009 train_loss: 0.3034   val_loss 0.6884 train_acc 0.9076 val_acc 0.8311\n",
            "loss:  0.20872409317309207\n"
          ]
        },
        {
          "output_type": "stream",
          "name": "stderr",
          "text": [
            "epoch:  67%|██████▋   | 10/15 [12:21<06:03, 72.79s/it]"
          ]
        },
        {
          "output_type": "stream",
          "name": "stdout",
          "text": [
            "\n",
            "Epoch 010 train_loss: 0.2087   val_loss 0.7181 train_acc 0.9375 val_acc 0.8433\n",
            "loss:  0.16213984218326277\n"
          ]
        },
        {
          "output_type": "stream",
          "name": "stderr",
          "text": [
            "epoch:  73%|███████▎  | 11/15 [13:32<04:49, 72.39s/it]"
          ]
        },
        {
          "output_type": "stream",
          "name": "stdout",
          "text": [
            "\n",
            "Epoch 011 train_loss: 0.1621   val_loss 0.7316 train_acc 0.9504 val_acc 0.8424\n",
            "loss:  0.13010496552021403\n"
          ]
        },
        {
          "output_type": "stream",
          "name": "stderr",
          "text": [
            "epoch:  80%|████████  | 12/15 [14:44<03:36, 72.18s/it]"
          ]
        },
        {
          "output_type": "stream",
          "name": "stdout",
          "text": [
            "\n",
            "Epoch 012 train_loss: 0.1301   val_loss 0.7430 train_acc 0.9609 val_acc 0.8503\n",
            "loss:  0.07769585578030232\n"
          ]
        },
        {
          "output_type": "stream",
          "name": "stderr",
          "text": [
            "epoch:  87%|████████▋ | 13/15 [15:55<02:23, 71.88s/it]"
          ]
        },
        {
          "output_type": "stream",
          "name": "stdout",
          "text": [
            "\n",
            "Epoch 013 train_loss: 0.0777   val_loss 0.7833 train_acc 0.9774 val_acc 0.8491\n",
            "loss:  0.06894647818475616\n"
          ]
        },
        {
          "output_type": "stream",
          "name": "stderr",
          "text": [
            "epoch:  93%|█████████▎| 14/15 [17:07<01:11, 71.80s/it]"
          ]
        },
        {
          "output_type": "stream",
          "name": "stdout",
          "text": [
            "\n",
            "Epoch 014 train_loss: 0.0689   val_loss 0.8390 train_acc 0.9781 val_acc 0.8443\n",
            "loss:  0.07889919986848933\n"
          ]
        },
        {
          "output_type": "stream",
          "name": "stderr",
          "text": [
            "epoch: 100%|██████████| 15/15 [18:18<00:00, 73.24s/it]"
          ]
        },
        {
          "output_type": "stream",
          "name": "stdout",
          "text": [
            "\n",
            "Epoch 015 train_loss: 0.0789   val_loss 0.8125 train_acc 0.9764 val_acc 0.8565\n"
          ]
        },
        {
          "output_type": "stream",
          "name": "stderr",
          "text": [
            "\n"
          ]
        }
      ]
    },
    {
      "cell_type": "code",
      "source": [
        "history = train(alexnet_, train_dataset, val_dataset, epochs = 10, batch_size = 128, lr = 1e-5)"
      ],
      "metadata": {
        "colab": {
          "base_uri": "https://localhost:8080/"
        },
        "id": "8Mrh2BlPWnJD",
        "outputId": "a5c73bf1-6cd1-4f8d-9b44-bd843978e6dc"
      },
      "execution_count": null,
      "outputs": [
        {
          "output_type": "stream",
          "name": "stderr",
          "text": [
            "\repoch:   0%|          | 0/10 [00:00<?, ?it/s]"
          ]
        },
        {
          "output_type": "stream",
          "name": "stdout",
          "text": [
            "loss:  0.01983769296429438\n"
          ]
        },
        {
          "output_type": "stream",
          "name": "stderr",
          "text": [
            "epoch:  10%|█         | 1/10 [01:13<10:57, 73.10s/it]"
          ]
        },
        {
          "output_type": "stream",
          "name": "stdout",
          "text": [
            "\n",
            "Epoch 001 train_loss: 0.0198   val_loss 0.8234 train_acc 0.9953 val_acc 0.8679\n",
            "loss:  0.010605096767297123\n"
          ]
        },
        {
          "output_type": "stream",
          "name": "stderr",
          "text": [
            "epoch:  20%|██        | 2/10 [02:25<09:42, 72.81s/it]"
          ]
        },
        {
          "output_type": "stream",
          "name": "stdout",
          "text": [
            "\n",
            "Epoch 002 train_loss: 0.0106   val_loss 0.8322 train_acc 0.9979 val_acc 0.8701\n",
            "loss:  0.006457724763534516\n"
          ]
        },
        {
          "output_type": "stream",
          "name": "stderr",
          "text": [
            "epoch:  30%|███       | 3/10 [03:37<08:27, 72.50s/it]"
          ]
        },
        {
          "output_type": "stream",
          "name": "stdout",
          "text": [
            "\n",
            "Epoch 003 train_loss: 0.0065   val_loss 0.8578 train_acc 0.9988 val_acc 0.8708\n",
            "loss:  0.006670636632587063\n"
          ]
        },
        {
          "output_type": "stream",
          "name": "stderr",
          "text": [
            "epoch:  40%|████      | 4/10 [04:49<07:13, 72.20s/it]"
          ]
        },
        {
          "output_type": "stream",
          "name": "stdout",
          "text": [
            "\n",
            "Epoch 004 train_loss: 0.0067   val_loss 0.8864 train_acc 0.9984 val_acc 0.8708\n",
            "loss:  0.005259820146319987\n"
          ]
        },
        {
          "output_type": "stream",
          "name": "stderr",
          "text": [
            "epoch:  50%|█████     | 5/10 [06:02<06:01, 72.35s/it]"
          ]
        },
        {
          "output_type": "stream",
          "name": "stdout",
          "text": [
            "\n",
            "Epoch 005 train_loss: 0.0053   val_loss 0.9331 train_acc 0.9986 val_acc 0.8677\n",
            "loss:  0.004046167453550088\n"
          ]
        },
        {
          "output_type": "stream",
          "name": "stderr",
          "text": [
            "epoch:  60%|██████    | 6/10 [07:14<04:49, 72.30s/it]"
          ]
        },
        {
          "output_type": "stream",
          "name": "stdout",
          "text": [
            "\n",
            "Epoch 006 train_loss: 0.0040   val_loss 0.9448 train_acc 0.9992 val_acc 0.8660\n",
            "loss:  0.004636404581843364\n"
          ]
        },
        {
          "output_type": "stream",
          "name": "stderr",
          "text": [
            "epoch:  70%|███████   | 7/10 [08:26<03:36, 72.26s/it]"
          ]
        },
        {
          "output_type": "stream",
          "name": "stdout",
          "text": [
            "\n",
            "Epoch 007 train_loss: 0.0046   val_loss 0.9385 train_acc 0.9992 val_acc 0.8722\n",
            "loss:  0.0042438298159275705\n"
          ]
        },
        {
          "output_type": "stream",
          "name": "stderr",
          "text": [
            "epoch:  80%|████████  | 8/10 [09:38<02:24, 72.30s/it]"
          ]
        },
        {
          "output_type": "stream",
          "name": "stdout",
          "text": [
            "\n",
            "Epoch 008 train_loss: 0.0042   val_loss 0.9839 train_acc 0.9989 val_acc 0.8682\n",
            "loss:  0.004333139433631505\n"
          ]
        },
        {
          "output_type": "stream",
          "name": "stderr",
          "text": [
            "epoch:  90%|█████████ | 9/10 [10:50<01:12, 72.20s/it]"
          ]
        },
        {
          "output_type": "stream",
          "name": "stdout",
          "text": [
            "\n",
            "Epoch 009 train_loss: 0.0043   val_loss 0.9474 train_acc 0.9987 val_acc 0.8717\n",
            "loss:  0.00427050603567612\n"
          ]
        },
        {
          "output_type": "stream",
          "name": "stderr",
          "text": [
            "epoch: 100%|██████████| 10/10 [12:03<00:00, 72.30s/it]"
          ]
        },
        {
          "output_type": "stream",
          "name": "stdout",
          "text": [
            "\n",
            "Epoch 010 train_loss: 0.0043   val_loss 0.9818 train_acc 0.9989 val_acc 0.8689\n"
          ]
        },
        {
          "output_type": "stream",
          "name": "stderr",
          "text": [
            "\n"
          ]
        }
      ]
    },
    {
      "cell_type": "markdown",
      "source": [
        "**AlexNet Predict**"
      ],
      "metadata": {
        "id": "EAVqCz2bT7tq"
      }
    },
    {
      "cell_type": "code",
      "source": [
        "label_encoder = pickle.load(open(\"label_encoder.pkl\", 'rb'))"
      ],
      "metadata": {
        "id": "q_2gYl0LUbF2"
      },
      "execution_count": null,
      "outputs": []
    },
    {
      "cell_type": "code",
      "source": [
        "test_dataset = SimpsonsDataset(test_files, mode=\"test\")\n",
        "test_loader = DataLoader(test_dataset, shuffle=False, batch_size=128)\n",
        "probs = predict(alexnet_, test_loader)\n",
        "\n",
        "\n",
        "preds = label_encoder.inverse_transform(np.argmax(probs, axis=1))\n",
        "test_filenames = [path.name for path in test_dataset.files]"
      ],
      "metadata": {
        "id": "aOJKUSzQUAV6"
      },
      "execution_count": null,
      "outputs": []
    },
    {
      "cell_type": "code",
      "source": [
        "import pandas as pd\n",
        "#my_submit = pd.read_csv(\"gdrive/MyDrive/simpsons/data/labels.csv\")\n",
        "my_submit = pd.DataFrame({'Id': test_filenames, 'Expected': preds})\n",
        "my_submit.head()"
      ],
      "metadata": {
        "colab": {
          "base_uri": "https://localhost:8080/",
          "height": 206
        },
        "id": "6RxqQv9_UgFE",
        "outputId": "05eb07fa-294b-4f81-d57b-93df082e01fd"
      },
      "execution_count": null,
      "outputs": [
        {
          "output_type": "execute_result",
          "data": {
            "text/plain": [
              "           Id                Expected\n",
              "0    img0.jpg            nelson_muntz\n",
              "1    img1.jpg            bart_simpson\n",
              "2   img10.jpg            ned_flanders\n",
              "3  img100.jpg            chief_wiggum\n",
              "4  img101.jpg  apu_nahasapeemapetilon"
            ],
            "text/html": [
              "\n",
              "  <div id=\"df-1428cbec-d0ef-4159-b09e-00a0a7fc115b\">\n",
              "    <div class=\"colab-df-container\">\n",
              "      <div>\n",
              "<style scoped>\n",
              "    .dataframe tbody tr th:only-of-type {\n",
              "        vertical-align: middle;\n",
              "    }\n",
              "\n",
              "    .dataframe tbody tr th {\n",
              "        vertical-align: top;\n",
              "    }\n",
              "\n",
              "    .dataframe thead th {\n",
              "        text-align: right;\n",
              "    }\n",
              "</style>\n",
              "<table border=\"1\" class=\"dataframe\">\n",
              "  <thead>\n",
              "    <tr style=\"text-align: right;\">\n",
              "      <th></th>\n",
              "      <th>Id</th>\n",
              "      <th>Expected</th>\n",
              "    </tr>\n",
              "  </thead>\n",
              "  <tbody>\n",
              "    <tr>\n",
              "      <th>0</th>\n",
              "      <td>img0.jpg</td>\n",
              "      <td>nelson_muntz</td>\n",
              "    </tr>\n",
              "    <tr>\n",
              "      <th>1</th>\n",
              "      <td>img1.jpg</td>\n",
              "      <td>bart_simpson</td>\n",
              "    </tr>\n",
              "    <tr>\n",
              "      <th>2</th>\n",
              "      <td>img10.jpg</td>\n",
              "      <td>ned_flanders</td>\n",
              "    </tr>\n",
              "    <tr>\n",
              "      <th>3</th>\n",
              "      <td>img100.jpg</td>\n",
              "      <td>chief_wiggum</td>\n",
              "    </tr>\n",
              "    <tr>\n",
              "      <th>4</th>\n",
              "      <td>img101.jpg</td>\n",
              "      <td>apu_nahasapeemapetilon</td>\n",
              "    </tr>\n",
              "  </tbody>\n",
              "</table>\n",
              "</div>\n",
              "      <button class=\"colab-df-convert\" onclick=\"convertToInteractive('df-1428cbec-d0ef-4159-b09e-00a0a7fc115b')\"\n",
              "              title=\"Convert this dataframe to an interactive table.\"\n",
              "              style=\"display:none;\">\n",
              "        \n",
              "  <svg xmlns=\"http://www.w3.org/2000/svg\" height=\"24px\"viewBox=\"0 0 24 24\"\n",
              "       width=\"24px\">\n",
              "    <path d=\"M0 0h24v24H0V0z\" fill=\"none\"/>\n",
              "    <path d=\"M18.56 5.44l.94 2.06.94-2.06 2.06-.94-2.06-.94-.94-2.06-.94 2.06-2.06.94zm-11 1L8.5 8.5l.94-2.06 2.06-.94-2.06-.94L8.5 2.5l-.94 2.06-2.06.94zm10 10l.94 2.06.94-2.06 2.06-.94-2.06-.94-.94-2.06-.94 2.06-2.06.94z\"/><path d=\"M17.41 7.96l-1.37-1.37c-.4-.4-.92-.59-1.43-.59-.52 0-1.04.2-1.43.59L10.3 9.45l-7.72 7.72c-.78.78-.78 2.05 0 2.83L4 21.41c.39.39.9.59 1.41.59.51 0 1.02-.2 1.41-.59l7.78-7.78 2.81-2.81c.8-.78.8-2.07 0-2.86zM5.41 20L4 18.59l7.72-7.72 1.47 1.35L5.41 20z\"/>\n",
              "  </svg>\n",
              "      </button>\n",
              "      \n",
              "  <style>\n",
              "    .colab-df-container {\n",
              "      display:flex;\n",
              "      flex-wrap:wrap;\n",
              "      gap: 12px;\n",
              "    }\n",
              "\n",
              "    .colab-df-convert {\n",
              "      background-color: #E8F0FE;\n",
              "      border: none;\n",
              "      border-radius: 50%;\n",
              "      cursor: pointer;\n",
              "      display: none;\n",
              "      fill: #1967D2;\n",
              "      height: 32px;\n",
              "      padding: 0 0 0 0;\n",
              "      width: 32px;\n",
              "    }\n",
              "\n",
              "    .colab-df-convert:hover {\n",
              "      background-color: #E2EBFA;\n",
              "      box-shadow: 0px 1px 2px rgba(60, 64, 67, 0.3), 0px 1px 3px 1px rgba(60, 64, 67, 0.15);\n",
              "      fill: #174EA6;\n",
              "    }\n",
              "\n",
              "    [theme=dark] .colab-df-convert {\n",
              "      background-color: #3B4455;\n",
              "      fill: #D2E3FC;\n",
              "    }\n",
              "\n",
              "    [theme=dark] .colab-df-convert:hover {\n",
              "      background-color: #434B5C;\n",
              "      box-shadow: 0px 1px 3px 1px rgba(0, 0, 0, 0.15);\n",
              "      filter: drop-shadow(0px 1px 2px rgba(0, 0, 0, 0.3));\n",
              "      fill: #FFFFFF;\n",
              "    }\n",
              "  </style>\n",
              "\n",
              "      <script>\n",
              "        const buttonEl =\n",
              "          document.querySelector('#df-1428cbec-d0ef-4159-b09e-00a0a7fc115b button.colab-df-convert');\n",
              "        buttonEl.style.display =\n",
              "          google.colab.kernel.accessAllowed ? 'block' : 'none';\n",
              "\n",
              "        async function convertToInteractive(key) {\n",
              "          const element = document.querySelector('#df-1428cbec-d0ef-4159-b09e-00a0a7fc115b');\n",
              "          const dataTable =\n",
              "            await google.colab.kernel.invokeFunction('convertToInteractive',\n",
              "                                                     [key], {});\n",
              "          if (!dataTable) return;\n",
              "\n",
              "          const docLinkHtml = 'Like what you see? Visit the ' +\n",
              "            '<a target=\"_blank\" href=https://colab.research.google.com/notebooks/data_table.ipynb>data table notebook</a>'\n",
              "            + ' to learn more about interactive tables.';\n",
              "          element.innerHTML = '';\n",
              "          dataTable['output_type'] = 'display_data';\n",
              "          await google.colab.output.renderOutput(dataTable, element);\n",
              "          const docLink = document.createElement('div');\n",
              "          docLink.innerHTML = docLinkHtml;\n",
              "          element.appendChild(docLink);\n",
              "        }\n",
              "      </script>\n",
              "    </div>\n",
              "  </div>\n",
              "  "
            ]
          },
          "metadata": {},
          "execution_count": 31
        }
      ]
    },
    {
      "cell_type": "code",
      "source": [
        "my_submit.to_csv('gdrive/MyDrive/alexnet.csv', index=False)"
      ],
      "metadata": {
        "id": "PVjmPOjqU9HG"
      },
      "execution_count": null,
      "outputs": []
    },
    {
      "cell_type": "code",
      "source": [
        "torch.cuda.empty_cache()"
      ],
      "metadata": {
        "id": "-IYawRwCfRgb"
      },
      "execution_count": null,
      "outputs": []
    }
  ]
}